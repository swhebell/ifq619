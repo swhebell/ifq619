{
 "cells": [
  {
   "cell_type": "markdown",
   "metadata": {
    "colab_type": "text",
    "id": "a6aI01kSh_7f"
   },
   "source": [
    "# IFQ619. Module 8 - Exercises"
   ]
  },
  {
   "cell_type": "markdown",
   "metadata": {
    "colab_type": "text",
    "id": "Hfs36QT-h94f"
   },
   "source": [
    "## Uncertainty In Flower Data\n",
    "\n",
    "You've been contracted by a floral research company in Canada to assist with a dilemma they are facing concerning some uncertainty in their data.\n",
    "\n",
    "You see, they recently held an expedition to count and characterise flowers in a nearby forest, to inform a local honey company on the yield and quality of flowers for the year. However, some of their papers were damaged during the expedition, causing the species types on certain records to be de-identified, and leaving only the measurements of the flowers behind.\n",
    "\n",
    "Their management team is upset, considering that the expedition was expensive to fund, and they still need to submit the report to the honey company.\n",
    "\n",
    "**They want to know if there is some way to confidently determine the flower species of the damaged records?**"
   ]
  },
  {
   "cell_type": "markdown",
   "metadata": {
    "colab_type": "text",
    "id": "F0Q36uaIiNOU"
   },
   "source": [
    "## Main Libraries"
   ]
  },
  {
   "cell_type": "code",
   "execution_count": 1,
   "metadata": {
    "ExecuteTime": {
     "end_time": "2020-05-05T23:17:24.591219Z",
     "start_time": "2020-05-05T23:17:20.994712Z"
    },
    "colab": {},
    "colab_type": "code",
    "id": "mpoyFwFghuAL"
   },
   "outputs": [],
   "source": [
    "# You may possibly need to uncomment these lines to install the required libraries\n",
    "\n",
    "#!pip install pytest\n",
    "#!pip install pandas_profiling\n",
    "\n",
    "# For reproduciability reasons:\n",
    "\n",
    "import numpy as np\n",
    "import random as rn\n",
    "import tensorflow as tf\n",
    "import csv\n",
    "\n",
    "# Necessary for starting numpy generated random numbers in an initial state\n",
    "\n",
    "np.random.seed(515)\n",
    "\n",
    "# Necessary for starting core Python generated random numbers in a state\n",
    "\n",
    "rn.seed(515)\n",
    "\n",
    "# Force TensorFlow to single thread\n",
    "\n",
    "# Multiple threads are a potential source of non-reprocible research results\n",
    "\n",
    "session_conf = tf.compat.v1.ConfigProto( intra_op_parallelism_threads=1,\n",
    "                                          inter_op_parallelism_threads=1 )\n",
    "\n",
    "# tf.set_random_seed() will make random number generation in the TensorFlow backend\n",
    "# have a well defined initial state\n",
    "# more details: https://www.tensorflow.org/api_docs/python/tf/set_random_seed\n",
    "\n",
    "tf.compat.v1.set_random_seed(515)"
   ]
  },
  {
   "cell_type": "code",
   "execution_count": 2,
   "metadata": {
    "ExecuteTime": {
     "end_time": "2020-05-05T23:18:47.238649Z",
     "start_time": "2020-05-05T23:18:46.564572Z"
    },
    "colab": {
     "base_uri": "https://localhost:8080/",
     "height": 71
    },
    "colab_type": "code",
    "executionInfo": {
     "elapsed": 1921,
     "status": "ok",
     "timestamp": 1588719546198,
     "user": {
      "displayName": "Catarina Moreira",
      "photoUrl": "https://lh3.googleusercontent.com/a-/AOh14Gid-vLpdwA-GJKlz2vCYOiRm1vjzbCkZjtsgFVV=s64",
      "userId": "07726683220655856721"
     },
     "user_tz": -600
    },
    "id": "TFTlM9i7hvxD",
    "outputId": "b862c485-2750-4b7a-98da-841092f6e3bc"
   },
   "outputs": [],
   "source": [
    "from __future__ import absolute_import, division, print_function, unicode_literals\n",
    "\n",
    "import pandas as pd\n",
    "import numpy as np\n",
    "#import pandas_profiling\n",
    "import seaborn as sns\n",
    "#sns.set_style('dark')\n",
    "import re\n",
    "#sns.set(style=\"ticks\", context=\"talk\")\n",
    "import warnings\n",
    "warnings.simplefilter(action='ignore', category=FutureWarning)\n",
    "\n",
    "# update for tensorflow\n",
    "\n",
    "# keras / deep learning libraries\n",
    "\n",
    "from tensorflow import keras\n",
    "from tensorflow.keras.models import Sequential\n",
    "from tensorflow.keras.models import model_from_json\n",
    "from tensorflow.keras.layers import Dense\n",
    "from tensorflow.keras.optimizers import Nadam\n",
    "from tensorflow.keras.callbacks import TensorBoard\n",
    "from tensorflow.keras.utils import plot_model\n",
    "\n",
    "# callbacks\n",
    "\n",
    "from tensorflow.keras import backend as K\n",
    "from tensorflow.keras.callbacks import EarlyStopping\n",
    "from tensorflow.keras.callbacks import ModelCheckpoint\n",
    "from tensorflow.keras.callbacks import ReduceLROnPlateau\n",
    "\n",
    "from matplotlib import pyplot as plt\n",
    "from matplotlib.pyplot import figure\n",
    "import matplotlib.image as mpimg\n",
    "import pylab as pl\n",
    "from pylab import savefig\n",
    "\n",
    "plt.style.use('seaborn-deep')\n",
    "%matplotlib inline\n",
    "\n",
    "from sklearn import datasets\n",
    "from sklearn.model_selection import train_test_split\n",
    "# very important for feature transformation\n",
    "from sklearn.preprocessing import OneHotEncoder, StandardScaler,MinMaxScaler\n"
   ]
  },
  {
   "cell_type": "markdown",
   "metadata": {
    "colab_type": "text",
    "id": "KjTl1KbjB1hG"
   },
   "source": [
    "### Aux Functions: Loading Trained Models"
   ]
  },
  {
   "cell_type": "code",
   "execution_count": 3,
   "metadata": {
    "ExecuteTime": {
     "end_time": "2020-05-06T00:10:53.284816Z",
     "start_time": "2020-05-06T00:10:53.278987Z"
    },
    "colab": {},
    "colab_type": "code",
    "id": "9zQ8zk3kB4rq"
   },
   "outputs": [],
   "source": [
    "# LOAD_MODEL_HISTORY ------------------------------------------\n",
    "def load_model_history( model_name, path):\n",
    "\n",
    "    model_hist_loaded = {}\n",
    "    values = []\n",
    "\n",
    "    # load dictionary\n",
    "    r = open( path + model_name + \"_hist.csv\", \"r\").read()\n",
    "    for line in r.split(\"\\n\"):\n",
    "        if(len(line) == 0):\n",
    "            continue\n",
    "  \n",
    "        metric = line.split(\",\\\"[\")[0]                                    # extract metrics\n",
    "        values_str = line.split(\",\\\"[\")[1].replace(\"]\\\"\",\"\").split(\", \")  # extract validation values\n",
    "        values = [float(val_str) for val_str in values_str]\n",
    "        \n",
    "        model_hist_loaded.update( {metric : values} )\n",
    "    return model_hist_loaded\n",
    "\n",
    "# LOAD_MODEL ------------------------------------------\n",
    "def load_model( model_name, path ):\n",
    "    json_file = open( path + model_name +  \"_DUO.json\", 'r')\n",
    "    loaded_model_json = json_file.read()\n",
    "    json_file.close()\n",
    "\n",
    "    # load weights into new model\n",
    "    loaded_model = model_from_json(loaded_model_json)\n",
    "    loaded_model.load_weights(path + model_name +  \"_DUO.h5\")\n",
    "    print(\"Loaded model from disk\")\n",
    "    return loaded_model"
   ]
  },
  {
   "cell_type": "markdown",
   "metadata": {
    "colab_type": "text",
    "id": "5DWIp4b3iqBZ"
   },
   "source": [
    "### The Dataset\n",
    "\n",
    "They provide you with the dataset of the undamaged records. It appears that they were recording the measurements of the flower sizes to indicate the quality of the surveyed flowers. Perhaps we can use this data to inform an analysis that might provide some reassurance under the current uncertainty."
   ]
  },
  {
   "cell_type": "code",
   "execution_count": 4,
   "metadata": {
    "ExecuteTime": {
     "end_time": "2020-05-05T23:18:49.671858Z",
     "start_time": "2020-05-05T23:18:49.654910Z"
    },
    "colab": {
     "base_uri": "https://localhost:8080/",
     "height": 419
    },
    "colab_type": "code",
    "executionInfo": {
     "elapsed": 1653,
     "status": "ok",
     "timestamp": 1588719548006,
     "user": {
      "displayName": "Catarina Moreira",
      "photoUrl": "https://lh3.googleusercontent.com/a-/AOh14Gid-vLpdwA-GJKlz2vCYOiRm1vjzbCkZjtsgFVV=s64",
      "userId": "07726683220655856721"
     },
     "user_tz": -600
    },
    "id": "FJ5mYo91iztZ",
    "outputId": "3c727463-b124-4d9c-cbaa-dd36e306e741"
   },
   "outputs": [
    {
     "data": {
      "text/html": [
       "<div>\n",
       "<style scoped>\n",
       "    .dataframe tbody tr th:only-of-type {\n",
       "        vertical-align: middle;\n",
       "    }\n",
       "\n",
       "    .dataframe tbody tr th {\n",
       "        vertical-align: top;\n",
       "    }\n",
       "\n",
       "    .dataframe thead th {\n",
       "        text-align: right;\n",
       "    }\n",
       "</style>\n",
       "<table border=\"1\" class=\"dataframe\">\n",
       "  <thead>\n",
       "    <tr style=\"text-align: right;\">\n",
       "      <th></th>\n",
       "      <th>sepal_length</th>\n",
       "      <th>sepal_width</th>\n",
       "      <th>petal_length</th>\n",
       "      <th>petal_width</th>\n",
       "      <th>species</th>\n",
       "    </tr>\n",
       "  </thead>\n",
       "  <tbody>\n",
       "    <tr>\n",
       "      <th>0</th>\n",
       "      <td>5.1</td>\n",
       "      <td>3.5</td>\n",
       "      <td>1.4</td>\n",
       "      <td>0.2</td>\n",
       "      <td>setosa</td>\n",
       "    </tr>\n",
       "    <tr>\n",
       "      <th>1</th>\n",
       "      <td>4.9</td>\n",
       "      <td>3.0</td>\n",
       "      <td>1.4</td>\n",
       "      <td>0.2</td>\n",
       "      <td>setosa</td>\n",
       "    </tr>\n",
       "    <tr>\n",
       "      <th>2</th>\n",
       "      <td>4.7</td>\n",
       "      <td>3.2</td>\n",
       "      <td>1.3</td>\n",
       "      <td>0.2</td>\n",
       "      <td>setosa</td>\n",
       "    </tr>\n",
       "    <tr>\n",
       "      <th>3</th>\n",
       "      <td>4.6</td>\n",
       "      <td>3.1</td>\n",
       "      <td>1.5</td>\n",
       "      <td>0.2</td>\n",
       "      <td>setosa</td>\n",
       "    </tr>\n",
       "    <tr>\n",
       "      <th>4</th>\n",
       "      <td>5.0</td>\n",
       "      <td>3.6</td>\n",
       "      <td>1.4</td>\n",
       "      <td>0.2</td>\n",
       "      <td>setosa</td>\n",
       "    </tr>\n",
       "    <tr>\n",
       "      <th>...</th>\n",
       "      <td>...</td>\n",
       "      <td>...</td>\n",
       "      <td>...</td>\n",
       "      <td>...</td>\n",
       "      <td>...</td>\n",
       "    </tr>\n",
       "    <tr>\n",
       "      <th>145</th>\n",
       "      <td>6.7</td>\n",
       "      <td>3.0</td>\n",
       "      <td>5.2</td>\n",
       "      <td>2.3</td>\n",
       "      <td>virginica</td>\n",
       "    </tr>\n",
       "    <tr>\n",
       "      <th>146</th>\n",
       "      <td>6.3</td>\n",
       "      <td>2.5</td>\n",
       "      <td>5.0</td>\n",
       "      <td>1.9</td>\n",
       "      <td>virginica</td>\n",
       "    </tr>\n",
       "    <tr>\n",
       "      <th>147</th>\n",
       "      <td>6.5</td>\n",
       "      <td>3.0</td>\n",
       "      <td>5.2</td>\n",
       "      <td>2.0</td>\n",
       "      <td>virginica</td>\n",
       "    </tr>\n",
       "    <tr>\n",
       "      <th>148</th>\n",
       "      <td>6.2</td>\n",
       "      <td>3.4</td>\n",
       "      <td>5.4</td>\n",
       "      <td>2.3</td>\n",
       "      <td>virginica</td>\n",
       "    </tr>\n",
       "    <tr>\n",
       "      <th>149</th>\n",
       "      <td>5.9</td>\n",
       "      <td>3.0</td>\n",
       "      <td>5.1</td>\n",
       "      <td>1.8</td>\n",
       "      <td>virginica</td>\n",
       "    </tr>\n",
       "  </tbody>\n",
       "</table>\n",
       "<p>150 rows × 5 columns</p>\n",
       "</div>"
      ],
      "text/plain": [
       "     sepal_length  sepal_width  petal_length  petal_width    species\n",
       "0             5.1          3.5           1.4          0.2     setosa\n",
       "1             4.9          3.0           1.4          0.2     setosa\n",
       "2             4.7          3.2           1.3          0.2     setosa\n",
       "3             4.6          3.1           1.5          0.2     setosa\n",
       "4             5.0          3.6           1.4          0.2     setosa\n",
       "..            ...          ...           ...          ...        ...\n",
       "145           6.7          3.0           5.2          2.3  virginica\n",
       "146           6.3          2.5           5.0          1.9  virginica\n",
       "147           6.5          3.0           5.2          2.0  virginica\n",
       "148           6.2          3.4           5.4          2.3  virginica\n",
       "149           5.9          3.0           5.1          1.8  virginica\n",
       "\n",
       "[150 rows x 5 columns]"
      ]
     },
     "execution_count": 4,
     "metadata": {},
     "output_type": "execute_result"
    }
   ],
   "source": [
    "\n",
    "\n",
    "dataset_path = \"data/iris.csv\"\n",
    "class_var = \"species\"\n",
    "dataset = pd.read_csv( dataset_path )\n",
    "dataset"
   ]
  },
  {
   "cell_type": "markdown",
   "metadata": {
    "colab_type": "text",
    "id": "YASr8bDxABkQ"
   },
   "source": [
    "Here we can see the features for which we will be stipulating the classes (however that will come later)."
   ]
  },
  {
   "cell_type": "code",
   "execution_count": 5,
   "metadata": {
    "ExecuteTime": {
     "end_time": "2020-05-05T23:18:50.662504Z",
     "start_time": "2020-05-05T23:18:50.648720Z"
    },
    "colab": {
     "base_uri": "https://localhost:8080/",
     "height": 419
    },
    "colab_type": "code",
    "executionInfo": {
     "elapsed": 768,
     "status": "ok",
     "timestamp": 1588719548007,
     "user": {
      "displayName": "Catarina Moreira",
      "photoUrl": "https://lh3.googleusercontent.com/a-/AOh14Gid-vLpdwA-GJKlz2vCYOiRm1vjzbCkZjtsgFVV=s64",
      "userId": "07726683220655856721"
     },
     "user_tz": -600
    },
    "id": "bxyMNuSVjSZr",
    "outputId": "628e404a-1d36-46e9-d3b3-cf34b6362858"
   },
   "outputs": [
    {
     "data": {
      "text/html": [
       "<div>\n",
       "<style scoped>\n",
       "    .dataframe tbody tr th:only-of-type {\n",
       "        vertical-align: middle;\n",
       "    }\n",
       "\n",
       "    .dataframe tbody tr th {\n",
       "        vertical-align: top;\n",
       "    }\n",
       "\n",
       "    .dataframe thead th {\n",
       "        text-align: right;\n",
       "    }\n",
       "</style>\n",
       "<table border=\"1\" class=\"dataframe\">\n",
       "  <thead>\n",
       "    <tr style=\"text-align: right;\">\n",
       "      <th></th>\n",
       "      <th>sepal_length</th>\n",
       "      <th>sepal_width</th>\n",
       "      <th>petal_length</th>\n",
       "      <th>petal_width</th>\n",
       "    </tr>\n",
       "  </thead>\n",
       "  <tbody>\n",
       "    <tr>\n",
       "      <th>0</th>\n",
       "      <td>5.1</td>\n",
       "      <td>3.5</td>\n",
       "      <td>1.4</td>\n",
       "      <td>0.2</td>\n",
       "    </tr>\n",
       "    <tr>\n",
       "      <th>1</th>\n",
       "      <td>4.9</td>\n",
       "      <td>3.0</td>\n",
       "      <td>1.4</td>\n",
       "      <td>0.2</td>\n",
       "    </tr>\n",
       "    <tr>\n",
       "      <th>2</th>\n",
       "      <td>4.7</td>\n",
       "      <td>3.2</td>\n",
       "      <td>1.3</td>\n",
       "      <td>0.2</td>\n",
       "    </tr>\n",
       "    <tr>\n",
       "      <th>3</th>\n",
       "      <td>4.6</td>\n",
       "      <td>3.1</td>\n",
       "      <td>1.5</td>\n",
       "      <td>0.2</td>\n",
       "    </tr>\n",
       "    <tr>\n",
       "      <th>4</th>\n",
       "      <td>5.0</td>\n",
       "      <td>3.6</td>\n",
       "      <td>1.4</td>\n",
       "      <td>0.2</td>\n",
       "    </tr>\n",
       "    <tr>\n",
       "      <th>...</th>\n",
       "      <td>...</td>\n",
       "      <td>...</td>\n",
       "      <td>...</td>\n",
       "      <td>...</td>\n",
       "    </tr>\n",
       "    <tr>\n",
       "      <th>145</th>\n",
       "      <td>6.7</td>\n",
       "      <td>3.0</td>\n",
       "      <td>5.2</td>\n",
       "      <td>2.3</td>\n",
       "    </tr>\n",
       "    <tr>\n",
       "      <th>146</th>\n",
       "      <td>6.3</td>\n",
       "      <td>2.5</td>\n",
       "      <td>5.0</td>\n",
       "      <td>1.9</td>\n",
       "    </tr>\n",
       "    <tr>\n",
       "      <th>147</th>\n",
       "      <td>6.5</td>\n",
       "      <td>3.0</td>\n",
       "      <td>5.2</td>\n",
       "      <td>2.0</td>\n",
       "    </tr>\n",
       "    <tr>\n",
       "      <th>148</th>\n",
       "      <td>6.2</td>\n",
       "      <td>3.4</td>\n",
       "      <td>5.4</td>\n",
       "      <td>2.3</td>\n",
       "    </tr>\n",
       "    <tr>\n",
       "      <th>149</th>\n",
       "      <td>5.9</td>\n",
       "      <td>3.0</td>\n",
       "      <td>5.1</td>\n",
       "      <td>1.8</td>\n",
       "    </tr>\n",
       "  </tbody>\n",
       "</table>\n",
       "<p>150 rows × 4 columns</p>\n",
       "</div>"
      ],
      "text/plain": [
       "     sepal_length  sepal_width  petal_length  petal_width\n",
       "0             5.1          3.5           1.4          0.2\n",
       "1             4.9          3.0           1.4          0.2\n",
       "2             4.7          3.2           1.3          0.2\n",
       "3             4.6          3.1           1.5          0.2\n",
       "4             5.0          3.6           1.4          0.2\n",
       "..            ...          ...           ...          ...\n",
       "145           6.7          3.0           5.2          2.3\n",
       "146           6.3          2.5           5.0          1.9\n",
       "147           6.5          3.0           5.2          2.0\n",
       "148           6.2          3.4           5.4          2.3\n",
       "149           5.9          3.0           5.1          1.8\n",
       "\n",
       "[150 rows x 4 columns]"
      ]
     },
     "execution_count": 5,
     "metadata": {},
     "output_type": "execute_result"
    }
   ],
   "source": [
    "dataset.drop([class_var], axis=1)"
   ]
  },
  {
   "cell_type": "markdown",
   "metadata": {
    "colab_type": "text",
    "id": "U8gxn7DDABkT"
   },
   "source": [
    "Machines cannot understand text and we need to convert these labels to numbers. It is better for the classifier to have one output neuron for each class. This means we will have to transform this data into an M x 3 matrix"
   ]
  },
  {
   "cell_type": "code",
   "execution_count": 6,
   "metadata": {
    "ExecuteTime": {
     "end_time": "2020-05-05T23:18:51.656193Z",
     "start_time": "2020-05-05T23:18:51.646339Z"
    },
    "colab": {
     "base_uri": "https://localhost:8080/",
     "height": 419
    },
    "colab_type": "code",
    "executionInfo": {
     "elapsed": 1018,
     "status": "ok",
     "timestamp": 1588719549195,
     "user": {
      "displayName": "Catarina Moreira",
      "photoUrl": "https://lh3.googleusercontent.com/a-/AOh14Gid-vLpdwA-GJKlz2vCYOiRm1vjzbCkZjtsgFVV=s64",
      "userId": "07726683220655856721"
     },
     "user_tz": -600
    },
    "id": "lQu8MG1rjoWY",
    "outputId": "8db4bb4b-234e-4ed7-de88-e418127c2ba0"
   },
   "outputs": [
    {
     "data": {
      "text/html": [
       "<div>\n",
       "<style scoped>\n",
       "    .dataframe tbody tr th:only-of-type {\n",
       "        vertical-align: middle;\n",
       "    }\n",
       "\n",
       "    .dataframe tbody tr th {\n",
       "        vertical-align: top;\n",
       "    }\n",
       "\n",
       "    .dataframe thead th {\n",
       "        text-align: right;\n",
       "    }\n",
       "</style>\n",
       "<table border=\"1\" class=\"dataframe\">\n",
       "  <thead>\n",
       "    <tr style=\"text-align: right;\">\n",
       "      <th></th>\n",
       "      <th>species</th>\n",
       "    </tr>\n",
       "  </thead>\n",
       "  <tbody>\n",
       "    <tr>\n",
       "      <th>0</th>\n",
       "      <td>setosa</td>\n",
       "    </tr>\n",
       "    <tr>\n",
       "      <th>1</th>\n",
       "      <td>setosa</td>\n",
       "    </tr>\n",
       "    <tr>\n",
       "      <th>2</th>\n",
       "      <td>setosa</td>\n",
       "    </tr>\n",
       "    <tr>\n",
       "      <th>3</th>\n",
       "      <td>setosa</td>\n",
       "    </tr>\n",
       "    <tr>\n",
       "      <th>4</th>\n",
       "      <td>setosa</td>\n",
       "    </tr>\n",
       "    <tr>\n",
       "      <th>...</th>\n",
       "      <td>...</td>\n",
       "    </tr>\n",
       "    <tr>\n",
       "      <th>145</th>\n",
       "      <td>virginica</td>\n",
       "    </tr>\n",
       "    <tr>\n",
       "      <th>146</th>\n",
       "      <td>virginica</td>\n",
       "    </tr>\n",
       "    <tr>\n",
       "      <th>147</th>\n",
       "      <td>virginica</td>\n",
       "    </tr>\n",
       "    <tr>\n",
       "      <th>148</th>\n",
       "      <td>virginica</td>\n",
       "    </tr>\n",
       "    <tr>\n",
       "      <th>149</th>\n",
       "      <td>virginica</td>\n",
       "    </tr>\n",
       "  </tbody>\n",
       "</table>\n",
       "<p>150 rows × 1 columns</p>\n",
       "</div>"
      ],
      "text/plain": [
       "       species\n",
       "0       setosa\n",
       "1       setosa\n",
       "2       setosa\n",
       "3       setosa\n",
       "4       setosa\n",
       "..         ...\n",
       "145  virginica\n",
       "146  virginica\n",
       "147  virginica\n",
       "148  virginica\n",
       "149  virginica\n",
       "\n",
       "[150 rows x 1 columns]"
      ]
     },
     "execution_count": 6,
     "metadata": {},
     "output_type": "execute_result"
    }
   ],
   "source": [
    "pd.DataFrame(dataset[class_var])"
   ]
  },
  {
   "cell_type": "markdown",
   "metadata": {
    "colab_type": "text",
    "id": "MX8ppOBQmuN9"
   },
   "source": [
    "### Checking Class Balance\n",
    "\n"
   ]
  },
  {
   "cell_type": "markdown",
   "metadata": {
    "colab_type": "text",
    "id": "R4Io4WleABkX"
   },
   "source": [
    "Here, we're going to try to detect imbalances in the class labels. A classifier needs to have the same amount of instances for each class, otherwise it will be biased towards one of them"
   ]
  },
  {
   "cell_type": "code",
   "execution_count": 7,
   "metadata": {
    "ExecuteTime": {
     "end_time": "2020-05-05T23:18:53.156334Z",
     "start_time": "2020-05-05T23:18:53.146362Z"
    },
    "colab": {
     "base_uri": "https://localhost:8080/",
     "height": 173
    },
    "colab_type": "code",
    "executionInfo": {
     "elapsed": 1010,
     "status": "ok",
     "timestamp": 1588719550577,
     "user": {
      "displayName": "Catarina Moreira",
      "photoUrl": "https://lh3.googleusercontent.com/a-/AOh14Gid-vLpdwA-GJKlz2vCYOiRm1vjzbCkZjtsgFVV=s64",
      "userId": "07726683220655856721"
     },
     "user_tz": -600
    },
    "id": "QJTkFZELmyHZ",
    "outputId": "ba6acb39-85f9-4a7f-9b30-437e16fd78b4"
   },
   "outputs": [
    {
     "data": {
      "text/html": [
       "<div>\n",
       "<style scoped>\n",
       "    .dataframe tbody tr th:only-of-type {\n",
       "        vertical-align: middle;\n",
       "    }\n",
       "\n",
       "    .dataframe tbody tr th {\n",
       "        vertical-align: top;\n",
       "    }\n",
       "\n",
       "    .dataframe thead th {\n",
       "        text-align: right;\n",
       "    }\n",
       "</style>\n",
       "<table border=\"1\" class=\"dataframe\">\n",
       "  <thead>\n",
       "    <tr style=\"text-align: right;\">\n",
       "      <th></th>\n",
       "      <th>sepal_length</th>\n",
       "      <th>sepal_width</th>\n",
       "      <th>petal_length</th>\n",
       "      <th>petal_width</th>\n",
       "    </tr>\n",
       "    <tr>\n",
       "      <th>species</th>\n",
       "      <th></th>\n",
       "      <th></th>\n",
       "      <th></th>\n",
       "      <th></th>\n",
       "    </tr>\n",
       "  </thead>\n",
       "  <tbody>\n",
       "    <tr>\n",
       "      <th>setosa</th>\n",
       "      <td>50</td>\n",
       "      <td>50</td>\n",
       "      <td>50</td>\n",
       "      <td>50</td>\n",
       "    </tr>\n",
       "    <tr>\n",
       "      <th>versicolor</th>\n",
       "      <td>50</td>\n",
       "      <td>50</td>\n",
       "      <td>50</td>\n",
       "      <td>50</td>\n",
       "    </tr>\n",
       "    <tr>\n",
       "      <th>virginica</th>\n",
       "      <td>50</td>\n",
       "      <td>50</td>\n",
       "      <td>50</td>\n",
       "      <td>50</td>\n",
       "    </tr>\n",
       "  </tbody>\n",
       "</table>\n",
       "</div>"
      ],
      "text/plain": [
       "            sepal_length  sepal_width  petal_length  petal_width\n",
       "species                                                         \n",
       "setosa                50           50            50           50\n",
       "versicolor            50           50            50           50\n",
       "virginica             50           50            50           50"
      ]
     },
     "execution_count": 7,
     "metadata": {},
     "output_type": "execute_result"
    }
   ],
   "source": [
    "dataset.groupby(class_var).count()"
   ]
  },
  {
   "cell_type": "markdown",
   "metadata": {
    "colab_type": "text",
    "id": "WWLIXhf5nO_7"
   },
   "source": [
    "### Feature Transformation"
   ]
  },
  {
   "cell_type": "code",
   "execution_count": 8,
   "metadata": {
    "ExecuteTime": {
     "end_time": "2020-05-05T23:18:59.480985Z",
     "start_time": "2020-05-05T23:18:59.475546Z"
    },
    "colab": {
     "base_uri": "https://localhost:8080/",
     "height": 51
    },
    "colab_type": "code",
    "executionInfo": {
     "elapsed": 6714,
     "status": "ok",
     "timestamp": 1588719558011,
     "user": {
      "displayName": "Catarina Moreira",
      "photoUrl": "https://lh3.googleusercontent.com/a-/AOh14Gid-vLpdwA-GJKlz2vCYOiRm1vjzbCkZjtsgFVV=s64",
      "userId": "07726683220655856721"
     },
     "user_tz": -600
    },
    "id": "LqMWjAzqkq-6",
    "outputId": "d81d29bb-f518-4a6f-ddf2-ec3a0026abd4"
   },
   "outputs": [
    {
     "name": "stdout",
     "output_type": "stream",
     "text": [
      "There are a total of 150 training instances, 4 features and a total of 3 classes\n",
      "\n"
     ]
    }
   ],
   "source": [
    "# separate variables into independent variables and dependent variable\n",
    "\n",
    "feature_names = dataset.columns.to_list()\n",
    "feature_names.remove(class_var)\n",
    "labels = dataset[class_var].unique()\n",
    "\n",
    "# select features from dataset\n",
    "X = dataset[feature_names]\n",
    "\n",
    "# select the class values from dataset\n",
    "y = dataset[class_var]\n",
    "\n",
    "# general info about number of features, samples, and classes\n",
    "n_features =  len(feature_names)\n",
    "n_samples = len(X)\n",
    "n_classes = len(y.unique())\n",
    "\n",
    "print(\"There are a total of %d training instances, %d features and a total of %d classes\\n\" %(n_samples, n_features, n_classes))"
   ]
  },
  {
   "cell_type": "code",
   "execution_count": 9,
   "metadata": {
    "ExecuteTime": {
     "end_time": "2020-05-05T23:19:00.391778Z",
     "start_time": "2020-05-05T23:19:00.386128Z"
    },
    "colab": {
     "base_uri": "https://localhost:8080/",
     "height": 187
    },
    "colab_type": "code",
    "executionInfo": {
     "elapsed": 2803,
     "status": "ok",
     "timestamp": 1588719558013,
     "user": {
      "displayName": "Catarina Moreira",
      "photoUrl": "https://lh3.googleusercontent.com/a-/AOh14Gid-vLpdwA-GJKlz2vCYOiRm1vjzbCkZjtsgFVV=s64",
      "userId": "07726683220655856721"
     },
     "user_tz": -600
    },
    "id": "78F-uludoig_",
    "outputId": "7920bb0d-126d-452d-8d14-372644ca04b8"
   },
   "outputs": [
    {
     "data": {
      "text/plain": [
       "array([[0., 1., 0.],\n",
       "       [0., 1., 0.],\n",
       "       [0., 1., 0.],\n",
       "       [0., 1., 0.],\n",
       "       [0., 1., 0.],\n",
       "       [0., 1., 0.],\n",
       "       [0., 1., 0.],\n",
       "       [0., 1., 0.],\n",
       "       [0., 1., 0.],\n",
       "       [0., 1., 0.]])"
      ]
     },
     "execution_count": 9,
     "metadata": {},
     "output_type": "execute_result"
    }
   ],
   "source": [
    "# create numerical encoding for attribute species\n",
    "# each class will be in one neuron, one column in a matrix\n",
    "# 'setosa' - index 0\n",
    "# 'versicolor' - index 1 \n",
    "# 'virginica' - index 2\n",
    "\n",
    "enc = OneHotEncoder()\n",
    "\n",
    "# transform the class variable using OneHot encoder \n",
    "Y = enc.fit_transform(y[:, np.newaxis]).toarray()\n",
    "Y[51:61,:]"
   ]
  },
  {
   "cell_type": "code",
   "execution_count": 10,
   "metadata": {
    "ExecuteTime": {
     "end_time": "2020-05-05T23:19:02.677200Z",
     "start_time": "2020-05-05T23:19:02.671157Z"
    },
    "colab": {
     "base_uri": "https://localhost:8080/",
     "height": 187
    },
    "colab_type": "code",
    "executionInfo": {
     "elapsed": 1875,
     "status": "ok",
     "timestamp": 1588719558013,
     "user": {
      "displayName": "Catarina Moreira",
      "photoUrl": "https://lh3.googleusercontent.com/a-/AOh14Gid-vLpdwA-GJKlz2vCYOiRm1vjzbCkZjtsgFVV=s64",
      "userId": "07726683220655856721"
     },
     "user_tz": -600
    },
    "id": "ZeGtcRmgpHyX",
    "outputId": "a9b83ec0-5985-407a-ae87-316c0003e143"
   },
   "outputs": [
    {
     "data": {
      "text/plain": [
       "array([[0.22222222, 0.625     , 0.06779661, 0.04166667],\n",
       "       [0.16666667, 0.41666667, 0.06779661, 0.04166667],\n",
       "       [0.11111111, 0.5       , 0.05084746, 0.04166667],\n",
       "       [0.08333333, 0.45833333, 0.08474576, 0.04166667],\n",
       "       [0.19444444, 0.66666667, 0.06779661, 0.04166667],\n",
       "       [0.30555556, 0.79166667, 0.11864407, 0.125     ],\n",
       "       [0.08333333, 0.58333333, 0.06779661, 0.08333333],\n",
       "       [0.19444444, 0.58333333, 0.08474576, 0.04166667],\n",
       "       [0.02777778, 0.375     , 0.06779661, 0.04166667],\n",
       "       [0.16666667, 0.45833333, 0.08474576, 0.        ]])"
      ]
     },
     "execution_count": 10,
     "metadata": {},
     "output_type": "execute_result"
    }
   ],
   "source": [
    "# Scale data to have mean 0 and variance 1 \n",
    "# which is importance for convergence of the neural network\n",
    "\n",
    "scaler = MinMaxScaler()\n",
    "# transform features using MinMaxScaler\n",
    "X_scaled = scaler.fit_transform(X)\n",
    "\n",
    "# taking a look\n",
    "X_scaled[0:10,:]"
   ]
  },
  {
   "cell_type": "markdown",
   "metadata": {
    "colab_type": "text",
    "id": "lOMiWm2pp9fZ"
   },
   "source": [
    "#### Get some data"
   ]
  },
  {
   "cell_type": "code",
   "execution_count": 11,
   "metadata": {
    "ExecuteTime": {
     "end_time": "2020-05-05T23:19:05.094016Z",
     "start_time": "2020-05-05T23:19:05.088735Z"
    },
    "colab": {},
    "colab_type": "code",
    "id": "IZlAsbbHp2b8"
   },
   "outputs": [],
   "source": [
    "# Split the data set into training, testing and validation\n",
    "\n",
    "X_train, X_test, Y_train, Y_test = train_test_split(X_scaled, Y, test_size=0.3, random_state = 9)\n",
    "X_validation, X_test, Y_validation, Y_test = train_test_split(X_test, Y_test, test_size=0.5, random_state=9)\n"
   ]
  },
  {
   "cell_type": "markdown",
   "metadata": {
    "colab_type": "text",
    "id": "eP1iO9SXw02a"
   },
   "source": [
    "####  Train Model"
   ]
  },
  {
   "cell_type": "code",
   "execution_count": 41,
   "metadata": {
    "ExecuteTime": {
     "end_time": "2020-05-06T00:11:16.122724Z",
     "start_time": "2020-05-06T00:11:16.120233Z"
    },
    "colab": {},
    "colab_type": "code",
    "id": "L5tUVCcYyO9Z"
   },
   "outputs": [],
   "source": [
    "# create a Neural Network with\n",
    "# 3 hidden layers\n",
    "# 12 neurons in each hidden layer\n",
    "# activation function is ReLu\n",
    "# output layer uses softmax\n",
    "\n",
    "model = Sequential()\n",
    "\n",
    "model.add(Dense(12, input_dim = n_features, activation='relu', name='input'))\n",
    "\n",
    "model.add(Dense(12, activation='relu'))\n",
    "model.add(Dense(12, activation='relu'))\n",
    "model.add(Dense(12, activation='relu'))\n",
    "\n",
    "model.add(Dense(n_classes, activation='softmax'))\n",
    "\n"
   ]
  },
  {
   "cell_type": "code",
   "execution_count": 42,
   "metadata": {},
   "outputs": [],
   "source": [
    "# compile the model with \n",
    "# loss function = categorical_crossentropy\n",
    "# optimization function - nadam\n",
    "# metrics - accuracy\n",
    "\n",
    "model.compile(loss='categorical_crossentropy', optimizer='nadam', metrics=['accuracy'])\n"
   ]
  },
  {
   "cell_type": "code",
   "execution_count": 43,
   "metadata": {},
   "outputs": [
    {
     "name": "stdout",
     "output_type": "stream",
     "text": [
      "Model: \"sequential_1\"\n",
      "_________________________________________________________________\n",
      "Layer (type)                 Output Shape              Param #   \n",
      "=================================================================\n",
      "input (Dense)                (None, 12)                60        \n",
      "_________________________________________________________________\n",
      "dense_4 (Dense)              (None, 12)                156       \n",
      "_________________________________________________________________\n",
      "dense_5 (Dense)              (None, 12)                156       \n",
      "_________________________________________________________________\n",
      "dense_6 (Dense)              (None, 12)                156       \n",
      "_________________________________________________________________\n",
      "dense_7 (Dense)              (None, 3)                 39        \n",
      "=================================================================\n",
      "Total params: 567\n",
      "Trainable params: 567\n",
      "Non-trainable params: 0\n",
      "_________________________________________________________________\n"
     ]
    }
   ],
   "source": [
    "model.summary()"
   ]
  },
  {
   "cell_type": "code",
   "execution_count": 44,
   "metadata": {},
   "outputs": [
    {
     "name": "stdout",
     "output_type": "stream",
     "text": [
      "Train on 105 samples, validate on 22 samples\n",
      "Epoch 1/150\n",
      "105/105 [==============================] - 1s 5ms/sample - loss: 1.0963 - accuracy: 0.4286 - val_loss: 1.0964 - val_accuracy: 0.3636\n",
      "Epoch 2/150\n",
      "105/105 [==============================] - 0s 352us/sample - loss: 1.0861 - accuracy: 0.5524 - val_loss: 1.0873 - val_accuracy: 0.3182\n",
      "Epoch 3/150\n",
      "105/105 [==============================] - 0s 372us/sample - loss: 1.0745 - accuracy: 0.5810 - val_loss: 1.0709 - val_accuracy: 0.3182\n",
      "Epoch 4/150\n",
      "105/105 [==============================] - 0s 372us/sample - loss: 1.0589 - accuracy: 0.6000 - val_loss: 1.0539 - val_accuracy: 0.5000\n",
      "Epoch 5/150\n",
      "105/105 [==============================] - 0s 352us/sample - loss: 1.0422 - accuracy: 0.6286 - val_loss: 1.0370 - val_accuracy: 0.4545\n",
      "Epoch 6/150\n",
      "105/105 [==============================] - 0s 362us/sample - loss: 1.0249 - accuracy: 0.6286 - val_loss: 1.0178 - val_accuracy: 0.4091\n",
      "Epoch 7/150\n",
      "105/105 [==============================] - 0s 381us/sample - loss: 1.0046 - accuracy: 0.6381 - val_loss: 0.9949 - val_accuracy: 0.4545\n",
      "Epoch 8/150\n",
      "105/105 [==============================] - 0s 362us/sample - loss: 0.9803 - accuracy: 0.6381 - val_loss: 0.9668 - val_accuracy: 0.5000\n",
      "Epoch 9/150\n",
      "105/105 [==============================] - 0s 362us/sample - loss: 0.9498 - accuracy: 0.6381 - val_loss: 0.9317 - val_accuracy: 0.5455\n",
      "Epoch 10/150\n",
      "105/105 [==============================] - 0s 381us/sample - loss: 0.9152 - accuracy: 0.6381 - val_loss: 0.8983 - val_accuracy: 0.5455\n",
      "Epoch 11/150\n",
      "105/105 [==============================] - 0s 372us/sample - loss: 0.8789 - accuracy: 0.6381 - val_loss: 0.8627 - val_accuracy: 0.5455\n",
      "Epoch 12/150\n",
      "105/105 [==============================] - 0s 381us/sample - loss: 0.8411 - accuracy: 0.6381 - val_loss: 0.8228 - val_accuracy: 0.6364\n",
      "Epoch 13/150\n",
      "105/105 [==============================] - 0s 381us/sample - loss: 0.8005 - accuracy: 0.7238 - val_loss: 0.7793 - val_accuracy: 0.7273\n",
      "Epoch 14/150\n",
      "105/105 [==============================] - 0s 391us/sample - loss: 0.7572 - accuracy: 0.6571 - val_loss: 0.7354 - val_accuracy: 0.7273\n",
      "Epoch 15/150\n",
      "105/105 [==============================] - 0s 381us/sample - loss: 0.7115 - accuracy: 0.6571 - val_loss: 0.6909 - val_accuracy: 0.7273\n",
      "Epoch 16/150\n",
      "105/105 [==============================] - 0s 372us/sample - loss: 0.6643 - accuracy: 0.6571 - val_loss: 0.6472 - val_accuracy: 0.7273\n",
      "Epoch 17/150\n",
      "105/105 [==============================] - 0s 381us/sample - loss: 0.6212 - accuracy: 0.6571 - val_loss: 0.6031 - val_accuracy: 0.7273\n",
      "Epoch 18/150\n",
      "105/105 [==============================] - 0s 381us/sample - loss: 0.5790 - accuracy: 0.6857 - val_loss: 0.5590 - val_accuracy: 0.8182\n",
      "Epoch 19/150\n",
      "105/105 [==============================] - 0s 381us/sample - loss: 0.5412 - accuracy: 0.7333 - val_loss: 0.5175 - val_accuracy: 0.8636\n",
      "Epoch 20/150\n",
      "105/105 [==============================] - 0s 372us/sample - loss: 0.5120 - accuracy: 0.7619 - val_loss: 0.4808 - val_accuracy: 0.9091\n",
      "Epoch 21/150\n",
      "105/105 [==============================] - 0s 362us/sample - loss: 0.4795 - accuracy: 0.8381 - val_loss: 0.4432 - val_accuracy: 0.9545\n",
      "Epoch 22/150\n",
      "105/105 [==============================] - 0s 372us/sample - loss: 0.4524 - accuracy: 0.8476 - val_loss: 0.4074 - val_accuracy: 0.9545\n",
      "Epoch 23/150\n",
      "105/105 [==============================] - 0s 372us/sample - loss: 0.4299 - accuracy: 0.8476 - val_loss: 0.3810 - val_accuracy: 0.9545\n",
      "Epoch 24/150\n",
      "105/105 [==============================] - 0s 395us/sample - loss: 0.4095 - accuracy: 0.8762 - val_loss: 0.3592 - val_accuracy: 0.9545\n",
      "Epoch 25/150\n",
      "105/105 [==============================] - 0s 381us/sample - loss: 0.3857 - accuracy: 0.9143 - val_loss: 0.3262 - val_accuracy: 0.9545\n",
      "Epoch 26/150\n",
      "105/105 [==============================] - 0s 391us/sample - loss: 0.3693 - accuracy: 0.9238 - val_loss: 0.3029 - val_accuracy: 0.9545\n",
      "Epoch 27/150\n",
      "105/105 [==============================] - 0s 372us/sample - loss: 0.3561 - accuracy: 0.8952 - val_loss: 0.2841 - val_accuracy: 1.0000\n",
      "Epoch 28/150\n",
      "105/105 [==============================] - 0s 352us/sample - loss: 0.3343 - accuracy: 0.9048 - val_loss: 0.2661 - val_accuracy: 1.0000\n",
      "Epoch 29/150\n",
      "105/105 [==============================] - 0s 372us/sample - loss: 0.3191 - accuracy: 0.9143 - val_loss: 0.2658 - val_accuracy: 1.0000\n",
      "Epoch 30/150\n",
      "105/105 [==============================] - 0s 362us/sample - loss: 0.3074 - accuracy: 0.9238 - val_loss: 0.2342 - val_accuracy: 1.0000\n",
      "Epoch 31/150\n",
      "105/105 [==============================] - 0s 372us/sample - loss: 0.2980 - accuracy: 0.9429 - val_loss: 0.2139 - val_accuracy: 1.0000\n",
      "Epoch 32/150\n",
      "105/105 [==============================] - 0s 362us/sample - loss: 0.2768 - accuracy: 0.9333 - val_loss: 0.2036 - val_accuracy: 1.0000\n",
      "Epoch 33/150\n",
      "105/105 [==============================] - 0s 362us/sample - loss: 0.2675 - accuracy: 0.9333 - val_loss: 0.1846 - val_accuracy: 1.0000\n",
      "Epoch 34/150\n",
      "105/105 [==============================] - 0s 372us/sample - loss: 0.2557 - accuracy: 0.9333 - val_loss: 0.1765 - val_accuracy: 1.0000\n",
      "Epoch 35/150\n",
      "105/105 [==============================] - 0s 372us/sample - loss: 0.2431 - accuracy: 0.9333 - val_loss: 0.1569 - val_accuracy: 1.0000\n",
      "Epoch 36/150\n",
      "105/105 [==============================] - 0s 362us/sample - loss: 0.2269 - accuracy: 0.9429 - val_loss: 0.1661 - val_accuracy: 1.0000\n",
      "Epoch 37/150\n",
      "105/105 [==============================] - 0s 372us/sample - loss: 0.2307 - accuracy: 0.9429 - val_loss: 0.1359 - val_accuracy: 1.0000\n",
      "Epoch 38/150\n",
      "105/105 [==============================] - 0s 352us/sample - loss: 0.2154 - accuracy: 0.9429 - val_loss: 0.1224 - val_accuracy: 1.0000\n",
      "Epoch 39/150\n",
      "105/105 [==============================] - 0s 362us/sample - loss: 0.2033 - accuracy: 0.9238 - val_loss: 0.1279 - val_accuracy: 1.0000\n",
      "Epoch 40/150\n",
      "105/105 [==============================] - 0s 372us/sample - loss: 0.1993 - accuracy: 0.9429 - val_loss: 0.1065 - val_accuracy: 1.0000\n",
      "Epoch 41/150\n",
      "105/105 [==============================] - 0s 362us/sample - loss: 0.1863 - accuracy: 0.9429 - val_loss: 0.0980 - val_accuracy: 1.0000\n",
      "Epoch 42/150\n",
      "105/105 [==============================] - 0s 381us/sample - loss: 0.1788 - accuracy: 0.9429 - val_loss: 0.0922 - val_accuracy: 1.0000\n",
      "Epoch 43/150\n",
      "105/105 [==============================] - 0s 352us/sample - loss: 0.1782 - accuracy: 0.9524 - val_loss: 0.0873 - val_accuracy: 1.0000\n",
      "Epoch 44/150\n",
      "105/105 [==============================] - 0s 372us/sample - loss: 0.1716 - accuracy: 0.9429 - val_loss: 0.0818 - val_accuracy: 1.0000\n",
      "Epoch 45/150\n",
      "105/105 [==============================] - 0s 362us/sample - loss: 0.1748 - accuracy: 0.9333 - val_loss: 0.0737 - val_accuracy: 1.0000\n",
      "Epoch 46/150\n",
      "105/105 [==============================] - 0s 352us/sample - loss: 0.1629 - accuracy: 0.9619 - val_loss: 0.0697 - val_accuracy: 1.0000\n",
      "Epoch 47/150\n",
      "105/105 [==============================] - 0s 362us/sample - loss: 0.1523 - accuracy: 0.9524 - val_loss: 0.0680 - val_accuracy: 1.0000\n",
      "Epoch 48/150\n",
      "105/105 [==============================] - 0s 372us/sample - loss: 0.1456 - accuracy: 0.9714 - val_loss: 0.0717 - val_accuracy: 1.0000\n",
      "Epoch 49/150\n",
      "105/105 [==============================] - 0s 372us/sample - loss: 0.1449 - accuracy: 0.9429 - val_loss: 0.0591 - val_accuracy: 1.0000\n",
      "Epoch 50/150\n",
      "105/105 [==============================] - 0s 381us/sample - loss: 0.1401 - accuracy: 0.9619 - val_loss: 0.0606 - val_accuracy: 1.0000\n",
      "Epoch 51/150\n",
      "105/105 [==============================] - 0s 381us/sample - loss: 0.1370 - accuracy: 0.9524 - val_loss: 0.0602 - val_accuracy: 1.0000\n",
      "Epoch 52/150\n",
      "105/105 [==============================] - 0s 352us/sample - loss: 0.1340 - accuracy: 0.9429 - val_loss: 0.0497 - val_accuracy: 1.0000\n",
      "Epoch 53/150\n",
      "105/105 [==============================] - 0s 362us/sample - loss: 0.1270 - accuracy: 0.9524 - val_loss: 0.0498 - val_accuracy: 1.0000\n",
      "Epoch 54/150\n",
      "105/105 [==============================] - 0s 362us/sample - loss: 0.1354 - accuracy: 0.9238 - val_loss: 0.0503 - val_accuracy: 1.0000\n",
      "Epoch 55/150\n",
      "105/105 [==============================] - 0s 362us/sample - loss: 0.1267 - accuracy: 0.9429 - val_loss: 0.0423 - val_accuracy: 1.0000\n",
      "Epoch 56/150\n",
      "105/105 [==============================] - 0s 381us/sample - loss: 0.1209 - accuracy: 0.9524 - val_loss: 0.0403 - val_accuracy: 1.0000\n",
      "Epoch 57/150\n",
      "105/105 [==============================] - 0s 372us/sample - loss: 0.1198 - accuracy: 0.9619 - val_loss: 0.0401 - val_accuracy: 1.0000\n",
      "Epoch 58/150\n",
      "105/105 [==============================] - 0s 381us/sample - loss: 0.1198 - accuracy: 0.9333 - val_loss: 0.0380 - val_accuracy: 1.0000\n",
      "Epoch 59/150\n",
      "105/105 [==============================] - 0s 391us/sample - loss: 0.1151 - accuracy: 0.9619 - val_loss: 0.0371 - val_accuracy: 1.0000\n",
      "Epoch 60/150\n",
      "105/105 [==============================] - 0s 381us/sample - loss: 0.1134 - accuracy: 0.9619 - val_loss: 0.0337 - val_accuracy: 1.0000\n",
      "Epoch 61/150\n",
      "105/105 [==============================] - 0s 381us/sample - loss: 0.1118 - accuracy: 0.9429 - val_loss: 0.0361 - val_accuracy: 1.0000\n",
      "Epoch 62/150\n",
      "105/105 [==============================] - 0s 372us/sample - loss: 0.1063 - accuracy: 0.9524 - val_loss: 0.0305 - val_accuracy: 1.0000\n",
      "Epoch 63/150\n",
      "105/105 [==============================] - 0s 372us/sample - loss: 0.1118 - accuracy: 0.9524 - val_loss: 0.0291 - val_accuracy: 1.0000\n",
      "Epoch 64/150\n",
      "105/105 [==============================] - 0s 381us/sample - loss: 0.1065 - accuracy: 0.9714 - val_loss: 0.0291 - val_accuracy: 1.0000\n",
      "Epoch 65/150\n",
      "105/105 [==============================] - 0s 381us/sample - loss: 0.1074 - accuracy: 0.9429 - val_loss: 0.0355 - val_accuracy: 1.0000\n",
      "Epoch 66/150\n",
      "105/105 [==============================] - 0s 381us/sample - loss: 0.1031 - accuracy: 0.9619 - val_loss: 0.0267 - val_accuracy: 1.0000\n",
      "Epoch 67/150\n",
      "105/105 [==============================] - 0s 362us/sample - loss: 0.1056 - accuracy: 0.9619 - val_loss: 0.0290 - val_accuracy: 1.0000\n",
      "Epoch 68/150\n",
      "105/105 [==============================] - 0s 381us/sample - loss: 0.1025 - accuracy: 0.9524 - val_loss: 0.0262 - val_accuracy: 1.0000\n",
      "Epoch 69/150\n",
      "105/105 [==============================] - 0s 381us/sample - loss: 0.1010 - accuracy: 0.9714 - val_loss: 0.0240 - val_accuracy: 1.0000\n",
      "Epoch 70/150\n",
      "105/105 [==============================] - 0s 362us/sample - loss: 0.0965 - accuracy: 0.9524 - val_loss: 0.0258 - val_accuracy: 1.0000\n",
      "Epoch 71/150\n",
      "105/105 [==============================] - 0s 372us/sample - loss: 0.0976 - accuracy: 0.9619 - val_loss: 0.0271 - val_accuracy: 1.0000\n",
      "Epoch 72/150\n",
      "105/105 [==============================] - 0s 372us/sample - loss: 0.1030 - accuracy: 0.9524 - val_loss: 0.0241 - val_accuracy: 1.0000\n",
      "Epoch 73/150\n",
      "105/105 [==============================] - 0s 364us/sample - loss: 0.0937 - accuracy: 0.9524 - val_loss: 0.0206 - val_accuracy: 1.0000\n",
      "Epoch 74/150\n",
      "105/105 [==============================] - 0s 372us/sample - loss: 0.0961 - accuracy: 0.9619 - val_loss: 0.0210 - val_accuracy: 1.0000\n",
      "Epoch 75/150\n",
      "105/105 [==============================] - 0s 381us/sample - loss: 0.0905 - accuracy: 0.9619 - val_loss: 0.0219 - val_accuracy: 1.0000\n",
      "Epoch 76/150\n",
      "105/105 [==============================] - 0s 381us/sample - loss: 0.0877 - accuracy: 0.9810 - val_loss: 0.0186 - val_accuracy: 1.0000\n",
      "Epoch 77/150\n",
      "105/105 [==============================] - 0s 343us/sample - loss: 0.0932 - accuracy: 0.9524 - val_loss: 0.0204 - val_accuracy: 1.0000\n",
      "Epoch 78/150\n",
      "105/105 [==============================] - 0s 362us/sample - loss: 0.0884 - accuracy: 0.9619 - val_loss: 0.0192 - val_accuracy: 1.0000\n",
      "Epoch 79/150\n",
      "105/105 [==============================] - 0s 376us/sample - loss: 0.0921 - accuracy: 0.9524 - val_loss: 0.0186 - val_accuracy: 1.0000\n",
      "Epoch 80/150\n",
      "105/105 [==============================] - 0s 362us/sample - loss: 0.0863 - accuracy: 0.9619 - val_loss: 0.0172 - val_accuracy: 1.0000\n",
      "Epoch 81/150\n",
      "105/105 [==============================] - 0s 362us/sample - loss: 0.0899 - accuracy: 0.9619 - val_loss: 0.0171 - val_accuracy: 1.0000\n",
      "Epoch 82/150\n",
      "105/105 [==============================] - 0s 372us/sample - loss: 0.0904 - accuracy: 0.9524 - val_loss: 0.0194 - val_accuracy: 1.0000\n",
      "Epoch 83/150\n",
      "105/105 [==============================] - 0s 381us/sample - loss: 0.0855 - accuracy: 0.9619 - val_loss: 0.0182 - val_accuracy: 1.0000\n",
      "Epoch 84/150\n",
      "105/105 [==============================] - 0s 381us/sample - loss: 0.0839 - accuracy: 0.9619 - val_loss: 0.0254 - val_accuracy: 1.0000\n",
      "Epoch 85/150\n",
      "105/105 [==============================] - 0s 372us/sample - loss: 0.0881 - accuracy: 0.9714 - val_loss: 0.0172 - val_accuracy: 1.0000\n",
      "Epoch 86/150\n",
      "105/105 [==============================] - 0s 381us/sample - loss: 0.0890 - accuracy: 0.9714 - val_loss: 0.0200 - val_accuracy: 1.0000\n",
      "Epoch 87/150\n",
      "105/105 [==============================] - 0s 391us/sample - loss: 0.0880 - accuracy: 0.9714 - val_loss: 0.0137 - val_accuracy: 1.0000\n",
      "Epoch 88/150\n",
      "105/105 [==============================] - 0s 352us/sample - loss: 0.0924 - accuracy: 0.9524 - val_loss: 0.0152 - val_accuracy: 1.0000\n",
      "Epoch 89/150\n",
      "105/105 [==============================] - 0s 372us/sample - loss: 0.0799 - accuracy: 0.9810 - val_loss: 0.0138 - val_accuracy: 1.0000\n",
      "Epoch 90/150\n",
      "105/105 [==============================] - 0s 381us/sample - loss: 0.0846 - accuracy: 0.9619 - val_loss: 0.0137 - val_accuracy: 1.0000\n",
      "Epoch 91/150\n",
      "105/105 [==============================] - 0s 381us/sample - loss: 0.0825 - accuracy: 0.9714 - val_loss: 0.0124 - val_accuracy: 1.0000\n",
      "Epoch 92/150\n",
      "105/105 [==============================] - 0s 357us/sample - loss: 0.0809 - accuracy: 0.9810 - val_loss: 0.0123 - val_accuracy: 1.0000\n",
      "Epoch 93/150\n",
      "105/105 [==============================] - 0s 352us/sample - loss: 0.0794 - accuracy: 0.9619 - val_loss: 0.0121 - val_accuracy: 1.0000\n",
      "Epoch 94/150\n",
      "105/105 [==============================] - 0s 362us/sample - loss: 0.0784 - accuracy: 0.9810 - val_loss: 0.0115 - val_accuracy: 1.0000\n",
      "Epoch 95/150\n",
      "105/105 [==============================] - 0s 362us/sample - loss: 0.0846 - accuracy: 0.9619 - val_loss: 0.0118 - val_accuracy: 1.0000\n",
      "Epoch 96/150\n",
      "105/105 [==============================] - 0s 372us/sample - loss: 0.0801 - accuracy: 0.9714 - val_loss: 0.0109 - val_accuracy: 1.0000\n",
      "Epoch 97/150\n",
      "105/105 [==============================] - 0s 352us/sample - loss: 0.0827 - accuracy: 0.9714 - val_loss: 0.0115 - val_accuracy: 1.0000\n",
      "Epoch 98/150\n",
      "105/105 [==============================] - 0s 352us/sample - loss: 0.0839 - accuracy: 0.9619 - val_loss: 0.0106 - val_accuracy: 1.0000\n",
      "Epoch 99/150\n",
      "105/105 [==============================] - 0s 352us/sample - loss: 0.0801 - accuracy: 0.9524 - val_loss: 0.0109 - val_accuracy: 1.0000\n",
      "Epoch 100/150\n",
      "105/105 [==============================] - 0s 381us/sample - loss: 0.0861 - accuracy: 0.9619 - val_loss: 0.0108 - val_accuracy: 1.0000\n",
      "Epoch 101/150\n",
      "105/105 [==============================] - 0s 372us/sample - loss: 0.0855 - accuracy: 0.9619 - val_loss: 0.0109 - val_accuracy: 1.0000\n",
      "Epoch 102/150\n",
      "105/105 [==============================] - 0s 352us/sample - loss: 0.0786 - accuracy: 0.9810 - val_loss: 0.0112 - val_accuracy: 1.0000\n",
      "Epoch 103/150\n",
      "105/105 [==============================] - 0s 352us/sample - loss: 0.0769 - accuracy: 0.9714 - val_loss: 0.0098 - val_accuracy: 1.0000\n",
      "Epoch 104/150\n",
      "105/105 [==============================] - 0s 372us/sample - loss: 0.0754 - accuracy: 0.9714 - val_loss: 0.0137 - val_accuracy: 1.0000\n",
      "Epoch 105/150\n",
      "105/105 [==============================] - 0s 372us/sample - loss: 0.0834 - accuracy: 0.9810 - val_loss: 0.0113 - val_accuracy: 1.0000\n",
      "Epoch 106/150\n",
      "105/105 [==============================] - 0s 352us/sample - loss: 0.0801 - accuracy: 0.9714 - val_loss: 0.0130 - val_accuracy: 1.0000\n",
      "Epoch 107/150\n",
      "105/105 [==============================] - 0s 372us/sample - loss: 0.0798 - accuracy: 0.9810 - val_loss: 0.0096 - val_accuracy: 1.0000\n",
      "Epoch 108/150\n",
      "105/105 [==============================] - 0s 362us/sample - loss: 0.0775 - accuracy: 0.9619 - val_loss: 0.0112 - val_accuracy: 1.0000\n",
      "Epoch 109/150\n",
      "105/105 [==============================] - 0s 372us/sample - loss: 0.0730 - accuracy: 0.9810 - val_loss: 0.0092 - val_accuracy: 1.0000\n",
      "Epoch 110/150\n",
      "105/105 [==============================] - 0s 352us/sample - loss: 0.0733 - accuracy: 0.9714 - val_loss: 0.0089 - val_accuracy: 1.0000\n",
      "Epoch 111/150\n",
      "105/105 [==============================] - 0s 362us/sample - loss: 0.0783 - accuracy: 0.9714 - val_loss: 0.0098 - val_accuracy: 1.0000\n",
      "Epoch 112/150\n",
      "105/105 [==============================] - 0s 381us/sample - loss: 0.0759 - accuracy: 0.9714 - val_loss: 0.0150 - val_accuracy: 1.0000\n",
      "Epoch 113/150\n",
      "105/105 [==============================] - 0s 352us/sample - loss: 0.0794 - accuracy: 0.9810 - val_loss: 0.0102 - val_accuracy: 1.0000\n",
      "Epoch 114/150\n",
      "105/105 [==============================] - 0s 362us/sample - loss: 0.0772 - accuracy: 0.9810 - val_loss: 0.0092 - val_accuracy: 1.0000\n",
      "Epoch 115/150\n",
      "105/105 [==============================] - 0s 352us/sample - loss: 0.0777 - accuracy: 0.9619 - val_loss: 0.0099 - val_accuracy: 1.0000\n",
      "Epoch 116/150\n",
      "105/105 [==============================] - 0s 362us/sample - loss: 0.0755 - accuracy: 0.9810 - val_loss: 0.0099 - val_accuracy: 1.0000\n",
      "Epoch 117/150\n",
      "105/105 [==============================] - 0s 381us/sample - loss: 0.0758 - accuracy: 0.9619 - val_loss: 0.0077 - val_accuracy: 1.0000\n",
      "Epoch 118/150\n",
      "105/105 [==============================] - 0s 352us/sample - loss: 0.0806 - accuracy: 0.9619 - val_loss: 0.0078 - val_accuracy: 1.0000\n",
      "Epoch 119/150\n",
      "105/105 [==============================] - 0s 352us/sample - loss: 0.0690 - accuracy: 0.9714 - val_loss: 0.0090 - val_accuracy: 1.0000\n",
      "Epoch 120/150\n",
      "105/105 [==============================] - 0s 372us/sample - loss: 0.0748 - accuracy: 0.9714 - val_loss: 0.0097 - val_accuracy: 1.0000\n",
      "Epoch 121/150\n",
      "105/105 [==============================] - 0s 381us/sample - loss: 0.0730 - accuracy: 0.9810 - val_loss: 0.0080 - val_accuracy: 1.0000\n",
      "Epoch 122/150\n",
      "105/105 [==============================] - 0s 362us/sample - loss: 0.0708 - accuracy: 0.9714 - val_loss: 0.0100 - val_accuracy: 1.0000\n",
      "Epoch 123/150\n",
      "105/105 [==============================] - 0s 362us/sample - loss: 0.0717 - accuracy: 0.9810 - val_loss: 0.0084 - val_accuracy: 1.0000\n",
      "Epoch 124/150\n",
      "105/105 [==============================] - 0s 372us/sample - loss: 0.0721 - accuracy: 0.9714 - val_loss: 0.0081 - val_accuracy: 1.0000\n",
      "Epoch 125/150\n",
      "105/105 [==============================] - 0s 362us/sample - loss: 0.0727 - accuracy: 0.9810 - val_loss: 0.0066 - val_accuracy: 1.0000\n",
      "Epoch 126/150\n",
      "105/105 [==============================] - 0s 386us/sample - loss: 0.0742 - accuracy: 0.9524 - val_loss: 0.0093 - val_accuracy: 1.0000\n",
      "Epoch 127/150\n",
      "105/105 [==============================] - 0s 362us/sample - loss: 0.0753 - accuracy: 0.9810 - val_loss: 0.0095 - val_accuracy: 1.0000\n",
      "Epoch 128/150\n",
      "105/105 [==============================] - 0s 362us/sample - loss: 0.0717 - accuracy: 0.9714 - val_loss: 0.0063 - val_accuracy: 1.0000\n",
      "Epoch 129/150\n",
      "105/105 [==============================] - 0s 362us/sample - loss: 0.0723 - accuracy: 0.9810 - val_loss: 0.0065 - val_accuracy: 1.0000\n",
      "Epoch 130/150\n",
      "105/105 [==============================] - 0s 352us/sample - loss: 0.0752 - accuracy: 0.9619 - val_loss: 0.0077 - val_accuracy: 1.0000\n",
      "Epoch 131/150\n",
      "105/105 [==============================] - 0s 362us/sample - loss: 0.0794 - accuracy: 0.9619 - val_loss: 0.0059 - val_accuracy: 1.0000\n",
      "Epoch 132/150\n",
      "105/105 [==============================] - 0s 343us/sample - loss: 0.0737 - accuracy: 0.9619 - val_loss: 0.0061 - val_accuracy: 1.0000\n",
      "Epoch 133/150\n",
      "105/105 [==============================] - 0s 362us/sample - loss: 0.0738 - accuracy: 0.9619 - val_loss: 0.0061 - val_accuracy: 1.0000\n",
      "Epoch 134/150\n",
      "105/105 [==============================] - 0s 372us/sample - loss: 0.0703 - accuracy: 0.9619 - val_loss: 0.0065 - val_accuracy: 1.0000\n",
      "Epoch 135/150\n",
      "105/105 [==============================] - 0s 381us/sample - loss: 0.0677 - accuracy: 0.9810 - val_loss: 0.0071 - val_accuracy: 1.0000\n",
      "Epoch 136/150\n",
      "105/105 [==============================] - 0s 362us/sample - loss: 0.0681 - accuracy: 0.9810 - val_loss: 0.0057 - val_accuracy: 1.0000\n",
      "Epoch 137/150\n",
      "105/105 [==============================] - 0s 362us/sample - loss: 0.0795 - accuracy: 0.9619 - val_loss: 0.0065 - val_accuracy: 1.0000\n",
      "Epoch 138/150\n",
      "105/105 [==============================] - 0s 371us/sample - loss: 0.0684 - accuracy: 0.9810 - val_loss: 0.0074 - val_accuracy: 1.0000\n",
      "Epoch 139/150\n",
      "105/105 [==============================] - 0s 372us/sample - loss: 0.0678 - accuracy: 0.9810 - val_loss: 0.0058 - val_accuracy: 1.0000\n",
      "Epoch 140/150\n",
      "105/105 [==============================] - 0s 362us/sample - loss: 0.0713 - accuracy: 0.9619 - val_loss: 0.0083 - val_accuracy: 1.0000\n",
      "Epoch 141/150\n",
      "105/105 [==============================] - 0s 372us/sample - loss: 0.0740 - accuracy: 0.9714 - val_loss: 0.0059 - val_accuracy: 1.0000\n",
      "Epoch 142/150\n",
      "105/105 [==============================] - 0s 372us/sample - loss: 0.0682 - accuracy: 0.9810 - val_loss: 0.0053 - val_accuracy: 1.0000\n",
      "Epoch 143/150\n",
      "105/105 [==============================] - 0s 352us/sample - loss: 0.0735 - accuracy: 0.9619 - val_loss: 0.0052 - val_accuracy: 1.0000\n",
      "Epoch 144/150\n",
      "105/105 [==============================] - 0s 362us/sample - loss: 0.0657 - accuracy: 0.9619 - val_loss: 0.0078 - val_accuracy: 1.0000\n",
      "Epoch 145/150\n",
      "105/105 [==============================] - 0s 352us/sample - loss: 0.0686 - accuracy: 0.9810 - val_loss: 0.0086 - val_accuracy: 1.0000\n",
      "Epoch 146/150\n",
      "105/105 [==============================] - 0s 362us/sample - loss: 0.0748 - accuracy: 0.9714 - val_loss: 0.0056 - val_accuracy: 1.0000\n",
      "Epoch 147/150\n",
      "105/105 [==============================] - 0s 372us/sample - loss: 0.0631 - accuracy: 0.9810 - val_loss: 0.0058 - val_accuracy: 1.0000\n",
      "Epoch 148/150\n",
      "105/105 [==============================] - 0s 372us/sample - loss: 0.0715 - accuracy: 0.9619 - val_loss: 0.0067 - val_accuracy: 1.0000\n",
      "Epoch 149/150\n",
      "105/105 [==============================] - 0s 362us/sample - loss: 0.0677 - accuracy: 0.9714 - val_loss: 0.0063 - val_accuracy: 1.0000\n",
      "Epoch 150/150\n",
      "105/105 [==============================] - 0s 343us/sample - loss: 0.0703 - accuracy: 0.9714 - val_loss: 0.0060 - val_accuracy: 1.0000\n"
     ]
    }
   ],
   "source": [
    "# fit model to data\n",
    "\n",
    "early_stop = EarlyStopping(monitor='val_loss', patience=30, verbose=1, mode='min')\n",
    "callbacks_list = [early_stop]\n",
    "\n",
    "history_callback = model.fit(X_train, Y_train, batch_size = 12, epochs = 150,\n",
    "                                 verbose=1, validation_data=(X_validation, Y_validation), callbacks=callbacks_list)\n",
    "    \n",
    "\n"
   ]
  },
  {
   "cell_type": "markdown",
   "metadata": {
    "colab_type": "text",
    "id": "BapxkAcU0Tid"
   },
   "source": [
    "#### Evaluate Model"
   ]
  },
  {
   "cell_type": "code",
   "execution_count": 45,
   "metadata": {
    "ExecuteTime": {
     "end_time": "2020-05-06T00:11:18.358153Z",
     "start_time": "2020-05-06T00:11:18.192042Z"
    },
    "colab": {
     "base_uri": "https://localhost:8080/",
     "height": 102
    },
    "colab_type": "code",
    "executionInfo": {
     "elapsed": 1513,
     "status": "ok",
     "timestamp": 1588719566119,
     "user": {
      "displayName": "Catarina Moreira",
      "photoUrl": "https://lh3.googleusercontent.com/a-/AOh14Gid-vLpdwA-GJKlz2vCYOiRm1vjzbCkZjtsgFVV=s64",
      "userId": "07726683220655856721"
     },
     "user_tz": -600
    },
    "id": "bWK-2zGB0P9x",
    "outputId": "96c269d4-2dfe-4353-fb8c-38ae5ae7a208"
   },
   "outputs": [
    {
     "name": "stdout",
     "output_type": "stream",
     "text": [
      "105/105 [==============================] - 0s 67us/sample - loss: 0.0615 - accuracy: 0.9810\n",
      "23/23 [==============================] - 0s 130us/sample - loss: 0.0271 - accuracy: 1.0000\n",
      "[Accuracy] Train: 0.981, Test: 1.000\n",
      "[Loss] Train: 0.062, Test: 0.027\n"
     ]
    }
   ],
   "source": [
    "# evaluate model performance in training data\n",
    "train_loss,train_acc= model.evaluate(X_train, Y_train)\n",
    "\n",
    "# evaluate model performance in test data\n",
    "test_loss,test_acc = model.evaluate(X_test, Y_test)\n",
    "\n",
    "print('[Accuracy] Train: %.3f, Test: %.3f' % (train_acc, test_acc))\n",
    "print('[Loss] Train: %.3f, Test: %.3f' % (train_loss, test_loss))\n"
   ]
  },
  {
   "cell_type": "code",
   "execution_count": 46,
   "metadata": {
    "ExecuteTime": {
     "end_time": "2020-05-06T00:11:19.119974Z",
     "start_time": "2020-05-06T00:11:18.892084Z"
    },
    "colab": {
     "base_uri": "https://localhost:8080/",
     "height": 549
    },
    "colab_type": "code",
    "executionInfo": {
     "elapsed": 1425,
     "status": "ok",
     "timestamp": 1588719566942,
     "user": {
      "displayName": "Catarina Moreira",
      "photoUrl": "https://lh3.googleusercontent.com/a-/AOh14Gid-vLpdwA-GJKlz2vCYOiRm1vjzbCkZjtsgFVV=s64",
      "userId": "07726683220655856721"
     },
     "user_tz": -600
    },
    "id": "mQDeyr2B0kIh",
    "outputId": "cb27ce63-0cd6-48c6-8240-6d16204f9b5a"
   },
   "outputs": [
    {
     "data": {
      "image/png": "[encoded data removed]",
      "text/plain": [
       "<Figure size 432x288 with 1 Axes>"
      ]
     },
     "metadata": {
      "needs_background": "light"
     },
     "output_type": "display_data"
    },
    {
     "data": {
      "image/png": "[encoded data removed]",
      "text/plain": [
       "<Figure size 432x288 with 1 Axes>"
      ]
     },
     "metadata": {
      "needs_background": "light"
     },
     "output_type": "display_data"
    }
   ],
   "source": [
    "# get model's training history\n",
    "plt.plot(history_callback.history['accuracy'], label='train')\n",
    "plt.plot(history_callback.history['val_accuracy'], label='test')\n",
    "plt.ylabel('Accuracy')\n",
    "plt.xlabel('Number of Epochs')\n",
    "plt.ylim([0, 1])\n",
    "plt.legend()\n",
    "plt.show()\n",
    "\n",
    "plt.plot(history_callback.history['loss'], label='train')\n",
    "plt.plot(history_callback.history['val_loss'], label='test')\n",
    "plt.ylabel('Loss')\n",
    "plt.xlabel('Number of Epochs')\n",
    "plt.ylim([0, 1])\n",
    "plt.legend()\n",
    "plt.show()"
   ]
  },
  {
   "cell_type": "markdown",
   "metadata": {
    "colab_type": "text",
    "id": "vE6KOQZJ1qMu"
   },
   "source": [
    "### Generating Explanations\n",
    "\n"
   ]
  },
  {
   "cell_type": "code",
   "execution_count": 17,
   "metadata": {
    "ExecuteTime": {
     "end_time": "2020-05-06T00:11:22.001315Z",
     "start_time": "2020-05-06T00:11:21.930901Z"
    },
    "colab": {},
    "colab_type": "code",
    "id": "xm5Zlo8LCOYZ"
   },
   "outputs": [
    {
     "ename": "ModuleNotFoundError",
     "evalue": "No module named 'lime'",
     "output_type": "error",
     "traceback": [
      "\u001b[1;31m---------------------------------------------------------------------------\u001b[0m",
      "\u001b[1;31mModuleNotFoundError\u001b[0m                       Traceback (most recent call last)",
      "\u001b[1;32m<ipython-input-17-4f9a73e4c42e>\u001b[0m in \u001b[0;36m<module>\u001b[1;34m\u001b[0m\n\u001b[1;32m----> 1\u001b[1;33m \u001b[1;32mimport\u001b[0m \u001b[0mlime\u001b[0m\u001b[1;33m\u001b[0m\u001b[1;33m\u001b[0m\u001b[0m\n\u001b[0m\u001b[0;32m      2\u001b[0m \u001b[1;32mfrom\u001b[0m \u001b[0mlime\u001b[0m \u001b[1;32mimport\u001b[0m \u001b[0mlime_tabular\u001b[0m\u001b[1;33m\u001b[0m\u001b[1;33m\u001b[0m\u001b[0m\n",
      "\u001b[1;31mModuleNotFoundError\u001b[0m: No module named 'lime'"
     ]
    }
   ],
   "source": [
    "import lime\n",
    "from lime import lime_tabular"
   ]
  },
  {
   "cell_type": "code",
   "execution_count": null,
   "metadata": {
    "ExecuteTime": {
     "end_time": "2020-05-06T00:11:22.331478Z",
     "start_time": "2020-05-06T00:11:22.328939Z"
    },
    "colab": {},
    "colab_type": "code",
    "id": "DRfGXjlQEVr9"
   },
   "outputs": [],
   "source": [
    "feature_names = dataset.columns.to_list()\n",
    "feature_names.remove(class_var)\n"
   ]
  },
  {
   "cell_type": "code",
   "execution_count": null,
   "metadata": {
    "ExecuteTime": {
     "end_time": "2020-05-06T00:11:23.198649Z",
     "start_time": "2020-05-06T00:11:23.196304Z"
    },
    "colab": {},
    "colab_type": "code",
    "id": "EAyxWK08FRn9"
   },
   "outputs": [],
   "source": [
    "# the dataset does not have many features\n",
    "# let's use all of them\n",
    "MAX_FEAT = len(feature_names)"
   ]
  },
  {
   "cell_type": "code",
   "execution_count": null,
   "metadata": {
    "ExecuteTime": {
     "end_time": "2020-05-06T00:11:23.899634Z",
     "start_time": "2020-05-06T00:11:23.894182Z"
    },
    "colab": {},
    "colab_type": "code",
    "id": "rjpYy3ZoEgKX"
   },
   "outputs": [],
   "source": [
    "# Calling LIME's explainer for Tabular data\n",
    "explainer = \n"
   ]
  },
  {
   "cell_type": "code",
   "execution_count": null,
   "metadata": {
    "ExecuteTime": {
     "end_time": "2020-05-06T00:11:26.399895Z",
     "start_time": "2020-05-06T00:11:26.396173Z"
    },
    "colab": {
     "base_uri": "https://localhost:8080/",
     "height": 51
    },
    "colab_type": "code",
    "executionInfo": {
     "elapsed": 1084,
     "status": "ok",
     "timestamp": 1588720289187,
     "user": {
      "displayName": "Catarina Moreira",
      "photoUrl": "https://lh3.googleusercontent.com/a-/AOh14Gid-vLpdwA-GJKlz2vCYOiRm1vjzbCkZjtsgFVV=s64",
      "userId": "07726683220655856721"
     },
     "user_tz": -600
    },
    "id": "4V4Sl77uExJk",
    "outputId": "e9907a08-cbc9-4d93-c872-cc15d4ba0aed"
   },
   "outputs": [],
   "source": [
    "# instance to be explained\n",
    "flower_indx = 0\n",
    "\n",
    "flower_feat = X_scaled[flower_indx,:]\n",
    "flower_true_pred = enc.inverse_transform(np.expand_dims(Y[flower_indx,:], 0))[0][0]\n",
    "\n",
    "print(\"Flower id: %d \\t Groundtruth Label: %s\\n\" %(flower_indx, flower_true_pred))\n"
   ]
  },
  {
   "cell_type": "markdown",
   "metadata": {
    "colab_type": "text",
    "id": "662MOL_YHQHu"
   },
   "source": [
    "#### Generating Lime Explanations"
   ]
  },
  {
   "cell_type": "code",
   "execution_count": null,
   "metadata": {
    "ExecuteTime": {
     "end_time": "2020-05-06T00:34:33.533738Z",
     "start_time": "2020-05-06T00:34:33.313078Z"
    },
    "colab": {},
    "colab_type": "code",
    "id": "EZLtAcj-HUZy"
   },
   "outputs": [],
   "source": [
    "# explain instance using lime\n",
    "exp = \n",
    "exp.show_in_notebook(show_table=True)"
   ]
  },
  {
   "cell_type": "code",
   "execution_count": null,
   "metadata": {
    "ExecuteTime": {
     "end_time": "2020-05-06T00:34:52.428629Z",
     "start_time": "2020-05-06T00:34:52.151843Z"
    }
   },
   "outputs": [],
   "source": [
    "fig = exp_good.as_pyplot_figure(label=labels.tolist().index(pred_good))"
   ]
  },
  {
   "cell_type": "markdown",
   "metadata": {},
   "source": [
    "### Generating Many Lime Explanations\n"
   ]
  },
  {
   "cell_type": "code",
   "execution_count": null,
   "metadata": {
    "ExecuteTime": {
     "end_time": "2020-05-06T01:19:06.794097Z",
     "start_time": "2020-05-06T01:18:59.264252Z"
    },
    "scrolled": true
   },
   "outputs": [],
   "source": [
    "%matplotlib notebook\n",
    "\n",
    "for flower_indx in range(0, len(X_test)):\n",
    "    \n",
    "    flower_feat = X_test[flower_indx,:]\n",
    "    flower_true_pred = enc.inverse_transform(np.expand_dims(Y_test[flower_indx,:], 0))[0][0]\n",
    "    \n",
    "    pred_good = best_model_loaded.predict(np.expand_dims(flower_feat, 0))\n",
    "    pred_good = enc.inverse_transform( pred_good )[0][0]\n",
    "\n",
    "    # explain instance using a good model\n",
    "    exp_good = explainer.explain_instance(flower_feat, best_model_loaded.predict, num_features= MAX_FEAT, \n",
    "                                 labels=[labels.tolist().index(pred_good)])\n",
    "    \n",
    "    exp_good.show_in_notebook(show_table=True)\n",
    "    exp_good.as_pyplot_figure(label=labels.tolist().index(pred_good),)\n",
    "    print(\"---------------------------------------------------------------\")\n",
    "    \n"
   ]
  },
  {
   "cell_type": "code",
   "execution_count": null,
   "metadata": {
    "colab": {},
    "colab_type": "code",
    "id": "Kyy3N1iXHLC9"
   },
   "outputs": [],
   "source": []
  }
 ],
 "metadata": {
  "colab": {
   "collapsed_sections": [],
   "name": "UncertaintyInFlowerDataTutorial.ipynb",
   "provenance": [],
   "toc_visible": true
  },
  "kernelspec": {
   "display_name": "Python 3",
   "language": "python",
   "name": "python3"
  },
  "language_info": {
   "codemirror_mode": {
    "name": "ipython",
    "version": 3
   },
   "file_extension": ".py",
   "mimetype": "text/x-python",
   "name": "python",
   "nbconvert_exporter": "python",
   "pygments_lexer": "ipython3",
   "version": "3.7.9"
  },
  "toc": {
   "base_numbering": 1,
   "nav_menu": {},
   "number_sections": true,
   "sideBar": true,
   "skip_h1_title": false,
   "title_cell": "Table of Contents",
   "title_sidebar": "Contents",
   "toc_cell": false,
   "toc_position": {},
   "toc_section_display": true,
   "toc_window_display": false
  },
  "varInspector": {
   "cols": {
    "lenName": 16,
    "lenType": 16,
    "lenVar": 40
   },
   "kernels_config": {
    "python": {
     "delete_cmd_postfix": "",
     "delete_cmd_prefix": "del ",
     "library": "var_list.py",
     "varRefreshCmd": "print(var_dic_list())"
    },
    "r": {
     "delete_cmd_postfix": ") ",
     "delete_cmd_prefix": "rm(",
     "library": "var_list.r",
     "varRefreshCmd": "cat(var_dic_list()) "
    }
   },
   "types_to_exclude": [
    "module",
    "function",
    "builtin_function_or_method",
    "instance",
    "_Feature"
   ],
   "window_display": false
  }
 },
 "nbformat": 4,
 "nbformat_minor": 4
}
