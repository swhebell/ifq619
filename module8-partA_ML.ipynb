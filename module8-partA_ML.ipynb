{
 "cells": [
  {
   "cell_type": "markdown",
   "metadata": {},
   "source": [
    "# Module 8 - ML, XAI, and data analytics\n",
    "\n",
    "## Machine Learning - Neural Networks Data Classification"
   ]
  },
  {
   "cell_type": "markdown",
   "metadata": {},
   "source": [
    "Neural Networks are one of the most powerfull techniques in Computer Science. They are computational systems vaguely inspired by the biological neural networks of animal brains.\n",
    "\n",
    "The image shows two neurons connected with each other. In this image, we can identify three important properties:\n",
    "\n",
    "- **Dendrites:** correspond to the input \"wires\" that receive sensory information. Dendrites are the segments of the neuron that receive stimulation in order for the cell to become active. They conduct electrical messages to the neuron cell body for the cell to function\n",
    "\n",
    "- **Axon:** corresponds to the body of the neuron. It is a long slender projection of a nerve cell, or neuron, that conducts electrical impulses away from the neuron's cell body or soma.\n",
    "\n",
    "- **Synapses:** correspond to the output \"wires\". When a nerve impulse reaches the synapse at the end of a neuron, it cannot pass directly to the next one. Instead, it triggers the neuron to release a chemical neurotransmitter. The neurotransmitter drifts across the gap between the two neurons.\n"
   ]
  },
  {
   "cell_type": "markdown",
   "metadata": {},
   "source": [
    "\n",
    "<img src=\"./graphics/neuron.png\" width=70% />"
   ]
  },
  {
   "cell_type": "markdown",
   "metadata": {},
   "source": [
    "## Representations of a Neuron\n",
    "\n",
    "A neuron is a computational unit that with three main layers:\n",
    "\n",
    "- Input Layer\n",
    "\n",
    "- Hidden Layer\n",
    "\n",
    "- Output Layer\n",
    "\n",
    "\n",
    "\n",
    "\n",
    "<img src=\"./graphics/model_NN.png\" width=70% />\n",
    "\n",
    "\n"
   ]
  },
  {
   "cell_type": "markdown",
   "metadata": {},
   "source": [
    "## Remember the Machine Learning Process:\n",
    "\n",
    "<img src=\"./graphics/forecast.png\" />"
   ]
  },
  {
   "cell_type": "code",
   "execution_count": null,
   "metadata": {},
   "outputs": [],
   "source": [
    "#!pip install ann_visualizer\n",
    "#!pip install sympy"
   ]
  },
  {
   "cell_type": "code",
   "execution_count": 1,
   "metadata": {
    "ExecuteTime": {
     "end_time": "2020-07-05T17:49:49.429651Z",
     "start_time": "2020-07-05T17:49:49.415946Z"
    }
   },
   "outputs": [],
   "source": [
    "import tensorflow as tf\n",
    "\n",
    "\n",
    "# scatter plot of the circles dataset with points colored by class\n",
    "from sklearn.datasets import make_circles\n",
    "from numpy import where\n",
    "from matplotlib import pyplot\n",
    "\n",
    "# mlp for the two circles classification problem\n",
    "from sklearn.datasets import make_circles\n",
    "from sklearn.preprocessing import MinMaxScaler\n",
    "from tensorflow.keras.layers import Dense,Dropout\n",
    "from tensorflow.keras.models import Sequential\n",
    "from tensorflow.keras.optimizers import SGD\n",
    "from tensorflow.keras.initializers import RandomUniform\n",
    "\n",
    "\n",
    "# Figure Plotting libraries\n",
    "%matplotlib inline\n",
    "import matplotlib.pyplot as plt\n",
    "from matplotlib.pyplot import figure\n",
    "from matplotlib import pyplot\n",
    "import seaborn as sns\n",
    "sns.set()\n",
    "\n",
    "# Machine Learning libraries\n",
    "from sklearn.model_selection import train_test_split\n",
    "from sklearn.preprocessing import OneHotEncoder, StandardScaler,MinMaxScaler\n",
    "from sklearn import metrics\n",
    "from sklearn.metrics import accuracy_score\n",
    "from sklearn.metrics import confusion_matrix\n",
    "\n",
    "import pandas as pd\n",
    "import numpy as np\n",
    "import statistics as stat\n",
    "\n",
    "\n",
    "import warnings\n",
    "warnings.simplefilter(action='ignore', category=FutureWarning)\n"
   ]
  },
  {
   "cell_type": "code",
   "execution_count": 2,
   "metadata": {
    "ExecuteTime": {
     "end_time": "2020-07-05T17:49:53.010221Z",
     "start_time": "2020-07-05T17:49:53.002089Z"
    }
   },
   "outputs": [],
   "source": [
    "# Auxiliary function to plot decision boundaries\n",
    "def plot_decision_boundary(X, y, model, steps=1000, cmap='Paired'):\n",
    "    \"\"\"\n",
    "    Function to plot the decision boundary and data points of a model.\n",
    "    Data points are colored based on their actual label.\n",
    "    \"\"\"\n",
    "    cmap = plt.get_cmap(cmap)\n",
    "    \n",
    "    # Define region of interest by data limits\n",
    "    xmin, xmax = X[:,0].min() - 1, X[:,0].max() + 1\n",
    "    ymin, ymax = X[:,1].min() - 1, X[:,1].max() + 1\n",
    "    steps = 100\n",
    "    x_span = np.linspace(xmin, xmax, steps)\n",
    "    y_span = np.linspace(ymin, ymax, steps)\n",
    "    xx, yy = np.meshgrid(x_span, y_span)\n",
    "\n",
    "    # Make predictions across region of interest\n",
    "    labels = model.predict(np.c_[xx.ravel(), yy.ravel()])\n",
    "\n",
    "    # Plot decision boundary in region of interest\n",
    "    z = labels.reshape(xx.shape)\n",
    "    \n",
    "    fig, ax = plt.subplots()\n",
    "    ax.contourf(xx, yy, z, cmap=cmap, alpha=0.5)\n",
    "\n",
    "    # Get predicted labels on training data and plot\n",
    "    train_labels = model.predict(X)\n",
    "    ax.scatter(X[:,0], X[:,1], c=y, cmap=cmap, lw=0)\n",
    "    \n",
    "    return fig, ax"
   ]
  },
  {
   "cell_type": "markdown",
   "metadata": {},
   "source": [
    "## Using Learning Network with ReLu Activation"
   ]
  },
  {
   "cell_type": "markdown",
   "metadata": {},
   "source": [
    "\n",
    "\n",
    "In workshop 2B, you had to classify a breast tumour dataset using Naive Bayes algorithm. In this task, you will do classify again the dataset, but using:\n",
    "\n",
    "- (1) a neural network with the 'tanh' as the activation function (you can choose as many hidden layers as you want)\n",
    "- (2) a deep neural network with the 'relu' activation function (you can choose as many hidden layers as you want)"
   ]
  },
  {
   "cell_type": "code",
   "execution_count": 3,
   "metadata": {
    "ExecuteTime": {
     "end_time": "2020-07-05T17:49:53.941681Z",
     "start_time": "2020-07-05T17:49:53.930003Z"
    }
   },
   "outputs": [
    {
     "data": {
      "text/html": [
       "<div>\n",
       "<style scoped>\n",
       "    .dataframe tbody tr th:only-of-type {\n",
       "        vertical-align: middle;\n",
       "    }\n",
       "\n",
       "    .dataframe tbody tr th {\n",
       "        vertical-align: top;\n",
       "    }\n",
       "\n",
       "    .dataframe thead th {\n",
       "        text-align: right;\n",
       "    }\n",
       "</style>\n",
       "<table border=\"1\" class=\"dataframe\">\n",
       "  <thead>\n",
       "    <tr style=\"text-align: right;\">\n",
       "      <th></th>\n",
       "      <th>diagnosis</th>\n",
       "      <th>radius_mean</th>\n",
       "      <th>texture_mean</th>\n",
       "    </tr>\n",
       "  </thead>\n",
       "  <tbody>\n",
       "    <tr>\n",
       "      <th>0</th>\n",
       "      <td>1</td>\n",
       "      <td>17.99</td>\n",
       "      <td>10.38</td>\n",
       "    </tr>\n",
       "    <tr>\n",
       "      <th>1</th>\n",
       "      <td>1</td>\n",
       "      <td>20.57</td>\n",
       "      <td>17.77</td>\n",
       "    </tr>\n",
       "    <tr>\n",
       "      <th>2</th>\n",
       "      <td>1</td>\n",
       "      <td>19.69</td>\n",
       "      <td>21.25</td>\n",
       "    </tr>\n",
       "    <tr>\n",
       "      <th>3</th>\n",
       "      <td>1</td>\n",
       "      <td>11.42</td>\n",
       "      <td>20.38</td>\n",
       "    </tr>\n",
       "    <tr>\n",
       "      <th>4</th>\n",
       "      <td>1</td>\n",
       "      <td>20.29</td>\n",
       "      <td>14.34</td>\n",
       "    </tr>\n",
       "    <tr>\n",
       "      <th>...</th>\n",
       "      <td>...</td>\n",
       "      <td>...</td>\n",
       "      <td>...</td>\n",
       "    </tr>\n",
       "    <tr>\n",
       "      <th>564</th>\n",
       "      <td>1</td>\n",
       "      <td>21.56</td>\n",
       "      <td>22.39</td>\n",
       "    </tr>\n",
       "    <tr>\n",
       "      <th>565</th>\n",
       "      <td>1</td>\n",
       "      <td>20.13</td>\n",
       "      <td>28.25</td>\n",
       "    </tr>\n",
       "    <tr>\n",
       "      <th>566</th>\n",
       "      <td>1</td>\n",
       "      <td>16.60</td>\n",
       "      <td>28.08</td>\n",
       "    </tr>\n",
       "    <tr>\n",
       "      <th>567</th>\n",
       "      <td>1</td>\n",
       "      <td>20.60</td>\n",
       "      <td>29.33</td>\n",
       "    </tr>\n",
       "    <tr>\n",
       "      <th>568</th>\n",
       "      <td>0</td>\n",
       "      <td>7.76</td>\n",
       "      <td>24.54</td>\n",
       "    </tr>\n",
       "  </tbody>\n",
       "</table>\n",
       "<p>569 rows × 3 columns</p>\n",
       "</div>"
      ],
      "text/plain": [
       "     diagnosis  radius_mean  texture_mean\n",
       "0            1        17.99         10.38\n",
       "1            1        20.57         17.77\n",
       "2            1        19.69         21.25\n",
       "3            1        11.42         20.38\n",
       "4            1        20.29         14.34\n",
       "..         ...          ...           ...\n",
       "564          1        21.56         22.39\n",
       "565          1        20.13         28.25\n",
       "566          1        16.60         28.08\n",
       "567          1        20.60         29.33\n",
       "568          0         7.76         24.54\n",
       "\n",
       "[569 rows x 3 columns]"
      ]
     },
     "execution_count": 3,
     "metadata": {},
     "output_type": "execute_result"
    }
   ],
   "source": [
    "# Let's revisit the breast cancer dataset\n",
    "\n",
    "file_path = 'data/breast_data_simple.csv'\n",
    "data = pd.read_csv( file_path )\n",
    "data"
   ]
  },
  {
   "cell_type": "code",
   "execution_count": 4,
   "metadata": {
    "ExecuteTime": {
     "end_time": "2020-07-05T17:51:06.172639Z",
     "start_time": "2020-07-05T17:51:06.168597Z"
    }
   },
   "outputs": [],
   "source": [
    "X = data[[\"radius_mean\", \"texture_mean\"]]\n",
    "y = data[\"diagnosis\"]\n",
    "\n",
    "n_features = X.columns.to_list()\n",
    "n_outputs = y.unique()"
   ]
  },
  {
   "cell_type": "code",
   "execution_count": 5,
   "metadata": {
    "ExecuteTime": {
     "end_time": "2020-07-05T17:49:54.977235Z",
     "start_time": "2020-07-05T17:49:54.758690Z"
    }
   },
   "outputs": [
    {
     "data": {
      "image/png": "[encoded data removed]",
      "text/plain": [
       "<Figure size 900x600 with 1 Axes>"
      ]
     },
     "metadata": {},
     "output_type": "display_data"
    }
   ],
   "source": [
    "# for plotting purposes:\n",
    "# separate the benign tumors (diagnosis = 0) from the malignant ones (diagnosis = 1)\n",
    "malignant = data[ data[ 'diagnosis'] == 1]\n",
    "benign = data[ data[ 'diagnosis'] == 0]\n",
    "\n",
    "# need to convert dataframe into a matrix in order to make the plot work\n",
    "x = X.to_numpy()\n",
    "\n",
    "# plot figure\n",
    "fig=plt.figure(dpi=150)\n",
    "\n",
    "plt.scatter(malignant['radius_mean'], malignant['texture_mean'], c='r', marker='x', s=10, label='malignant', cmap='RdBu')\n",
    "plt.scatter(benign['radius_mean'], benign['texture_mean'], c='b', marker='o', s=10, label='benign', cmap='RdBu')\n",
    "plt.ylabel('texture_mean', fontsize=12)\n",
    "plt.xlabel('radius_mean', fontsize=12)\n",
    "plt.title('Breast Tumors', fontsize=14)\n",
    "plt.legend()\n",
    "plt.show()"
   ]
  },
  {
   "cell_type": "code",
   "execution_count": 6,
   "metadata": {
    "ExecuteTime": {
     "end_time": "2020-07-05T17:49:55.391210Z",
     "start_time": "2020-07-05T17:49:55.385850Z"
    }
   },
   "outputs": [],
   "source": [
    "\n",
    "# create numerical encoding for attribute species\n",
    "enc = OneHotEncoder()\n",
    "Y = enc.fit_transform(y[:, np.newaxis]).toarray()\n",
    "\n",
    "# Scale data to have mean 0 and variance 1 \n",
    "# which is importance for convergence of the neural network\n",
    "scaler = MinMaxScaler()\n",
    "X_scaled = scaler.fit_transform(X)"
   ]
  },
  {
   "cell_type": "code",
   "execution_count": 7,
   "metadata": {
    "ExecuteTime": {
     "end_time": "2020-07-05T17:56:58.904557Z",
     "start_time": "2020-07-05T17:56:58.900028Z"
    }
   },
   "outputs": [],
   "source": [
    "# separate the dataset into test set, validation set and train set\n",
    "# YOUR CODE HERE:\n",
    "#X_train, X_test, y_train, y_test = train_test_split( X, y, test_size = 0.3 )\n",
    "# create the training set and the test set\n",
    "X_train, X_test, Y_train, Y_test = train_test_split(X_scaled, Y, test_size=0.3, random_state = 42)\n",
    "X_test, X_val, Y_test, Y_val = train_test_split(X_test, Y_test, test_size=0.5, random_state = 42)"
   ]
  },
  {
   "cell_type": "code",
   "execution_count": 8,
   "metadata": {
    "ExecuteTime": {
     "end_time": "2020-07-05T17:57:16.147149Z",
     "start_time": "2020-07-05T17:57:13.349558Z"
    }
   },
   "outputs": [
    {
     "name": "stdout",
     "output_type": "stream",
     "text": [
      "Train on 398 samples, validate on 86 samples\n",
      "Epoch 1/100\n",
      "398/398 [==============================] - 1s 2ms/sample - loss: 0.6881 - accuracy: 0.6709 - val_loss: 0.6811 - val_accuracy: 0.7093\n",
      "Epoch 2/100\n",
      "398/398 [==============================] - 0s 138us/sample - loss: 0.6816 - accuracy: 0.6558 - val_loss: 0.6703 - val_accuracy: 0.6977\n",
      "Epoch 3/100\n",
      "398/398 [==============================] - 0s 133us/sample - loss: 0.6736 - accuracy: 0.6357 - val_loss: 0.6586 - val_accuracy: 0.6977\n",
      "Epoch 4/100\n",
      "398/398 [==============================] - 0s 133us/sample - loss: 0.6642 - accuracy: 0.6432 - val_loss: 0.6448 - val_accuracy: 0.6977\n",
      "Epoch 5/100\n",
      "398/398 [==============================] - 0s 141us/sample - loss: 0.6520 - accuracy: 0.6508 - val_loss: 0.6270 - val_accuracy: 0.7209\n",
      "Epoch 6/100\n",
      "398/398 [==============================] - 0s 138us/sample - loss: 0.6371 - accuracy: 0.6809 - val_loss: 0.6093 - val_accuracy: 0.7674\n",
      "Epoch 7/100\n",
      "398/398 [==============================] - 0s 133us/sample - loss: 0.6203 - accuracy: 0.7638 - val_loss: 0.5892 - val_accuracy: 0.7791\n",
      "Epoch 8/100\n",
      "398/398 [==============================] - 0s 133us/sample - loss: 0.6017 - accuracy: 0.7965 - val_loss: 0.5665 - val_accuracy: 0.8140\n",
      "Epoch 9/100\n",
      "398/398 [==============================] - 0s 141us/sample - loss: 0.5801 - accuracy: 0.8065 - val_loss: 0.5449 - val_accuracy: 0.8372\n",
      "Epoch 10/100\n",
      "398/398 [==============================] - 0s 131us/sample - loss: 0.5583 - accuracy: 0.8317 - val_loss: 0.5203 - val_accuracy: 0.8372\n",
      "Epoch 11/100\n",
      "398/398 [==============================] - 0s 133us/sample - loss: 0.5356 - accuracy: 0.8342 - val_loss: 0.4930 - val_accuracy: 0.8372\n",
      "Epoch 12/100\n",
      "398/398 [==============================] - 0s 128us/sample - loss: 0.5101 - accuracy: 0.8467 - val_loss: 0.4674 - val_accuracy: 0.8372\n",
      "Epoch 13/100\n",
      "398/398 [==============================] - 0s 143us/sample - loss: 0.4884 - accuracy: 0.8367 - val_loss: 0.4415 - val_accuracy: 0.8488\n",
      "Epoch 14/100\n",
      "398/398 [==============================] - 0s 131us/sample - loss: 0.4631 - accuracy: 0.8492 - val_loss: 0.4169 - val_accuracy: 0.8721\n",
      "Epoch 15/100\n",
      "398/398 [==============================] - 0s 131us/sample - loss: 0.4391 - accuracy: 0.8593 - val_loss: 0.3938 - val_accuracy: 0.8953\n",
      "Epoch 16/100\n",
      "398/398 [==============================] - 0s 131us/sample - loss: 0.4171 - accuracy: 0.8719 - val_loss: 0.3686 - val_accuracy: 0.8721\n",
      "Epoch 17/100\n",
      "398/398 [==============================] - 0s 131us/sample - loss: 0.3969 - accuracy: 0.8719 - val_loss: 0.3469 - val_accuracy: 0.8837\n",
      "Epoch 18/100\n",
      "398/398 [==============================] - 0s 131us/sample - loss: 0.3781 - accuracy: 0.8769 - val_loss: 0.3286 - val_accuracy: 0.9070\n",
      "Epoch 19/100\n",
      "398/398 [==============================] - 0s 131us/sample - loss: 0.3611 - accuracy: 0.8769 - val_loss: 0.3170 - val_accuracy: 0.9186\n",
      "Epoch 20/100\n",
      "398/398 [==============================] - 0s 131us/sample - loss: 0.3473 - accuracy: 0.8819 - val_loss: 0.2962 - val_accuracy: 0.9070\n",
      "Epoch 21/100\n",
      "398/398 [==============================] - 0s 131us/sample - loss: 0.3348 - accuracy: 0.8894 - val_loss: 0.2838 - val_accuracy: 0.8953\n",
      "Epoch 22/100\n",
      "398/398 [==============================] - 0s 133us/sample - loss: 0.3234 - accuracy: 0.8894 - val_loss: 0.2719 - val_accuracy: 0.9070\n",
      "Epoch 23/100\n",
      "398/398 [==============================] - 0s 128us/sample - loss: 0.3146 - accuracy: 0.8869 - val_loss: 0.2670 - val_accuracy: 0.9070\n",
      "Epoch 24/100\n",
      "398/398 [==============================] - 0s 133us/sample - loss: 0.3063 - accuracy: 0.9020 - val_loss: 0.2543 - val_accuracy: 0.9070\n",
      "Epoch 25/100\n",
      "398/398 [==============================] - 0s 131us/sample - loss: 0.3000 - accuracy: 0.8869 - val_loss: 0.2487 - val_accuracy: 0.8953\n",
      "Epoch 26/100\n",
      "398/398 [==============================] - 0s 131us/sample - loss: 0.2960 - accuracy: 0.8920 - val_loss: 0.2477 - val_accuracy: 0.9302\n",
      "Epoch 27/100\n",
      "398/398 [==============================] - 0s 131us/sample - loss: 0.2905 - accuracy: 0.8945 - val_loss: 0.2393 - val_accuracy: 0.9186\n",
      "Epoch 28/100\n",
      "398/398 [==============================] - 0s 131us/sample - loss: 0.2884 - accuracy: 0.8869 - val_loss: 0.2322 - val_accuracy: 0.8953\n",
      "Epoch 29/100\n",
      "398/398 [==============================] - 0s 136us/sample - loss: 0.2841 - accuracy: 0.8945 - val_loss: 0.2289 - val_accuracy: 0.8953\n",
      "Epoch 30/100\n",
      "398/398 [==============================] - 0s 138us/sample - loss: 0.2799 - accuracy: 0.8970 - val_loss: 0.2256 - val_accuracy: 0.8953\n",
      "Epoch 31/100\n",
      "398/398 [==============================] - 0s 131us/sample - loss: 0.2779 - accuracy: 0.8920 - val_loss: 0.2232 - val_accuracy: 0.8953\n",
      "Epoch 32/100\n",
      "398/398 [==============================] - 0s 128us/sample - loss: 0.2756 - accuracy: 0.8970 - val_loss: 0.2206 - val_accuracy: 0.8953\n",
      "Epoch 33/100\n",
      "398/398 [==============================] - 0s 131us/sample - loss: 0.2745 - accuracy: 0.8995 - val_loss: 0.2187 - val_accuracy: 0.8953\n",
      "Epoch 34/100\n",
      "398/398 [==============================] - 0s 136us/sample - loss: 0.2727 - accuracy: 0.8995 - val_loss: 0.2172 - val_accuracy: 0.8953\n",
      "Epoch 35/100\n",
      "398/398 [==============================] - 0s 136us/sample - loss: 0.2717 - accuracy: 0.8995 - val_loss: 0.2153 - val_accuracy: 0.8953\n",
      "Epoch 36/100\n",
      "398/398 [==============================] - 0s 126us/sample - loss: 0.2698 - accuracy: 0.8995 - val_loss: 0.2180 - val_accuracy: 0.9186\n",
      "Epoch 37/100\n",
      "398/398 [==============================] - 0s 133us/sample - loss: 0.2704 - accuracy: 0.8995 - val_loss: 0.2142 - val_accuracy: 0.9070\n",
      "Epoch 38/100\n",
      "398/398 [==============================] - 0s 128us/sample - loss: 0.2689 - accuracy: 0.8945 - val_loss: 0.2146 - val_accuracy: 0.9186\n",
      "Epoch 39/100\n",
      "398/398 [==============================] - 0s 133us/sample - loss: 0.2693 - accuracy: 0.9070 - val_loss: 0.2138 - val_accuracy: 0.9186\n",
      "Epoch 40/100\n",
      "398/398 [==============================] - 0s 131us/sample - loss: 0.2668 - accuracy: 0.8894 - val_loss: 0.2101 - val_accuracy: 0.9070\n",
      "Epoch 41/100\n",
      "398/398 [==============================] - 0s 133us/sample - loss: 0.2660 - accuracy: 0.8894 - val_loss: 0.2091 - val_accuracy: 0.9070\n",
      "Epoch 42/100\n",
      "398/398 [==============================] - 0s 128us/sample - loss: 0.2664 - accuracy: 0.8844 - val_loss: 0.2124 - val_accuracy: 0.9070\n",
      "Epoch 43/100\n",
      "398/398 [==============================] - 0s 131us/sample - loss: 0.2652 - accuracy: 0.8970 - val_loss: 0.2089 - val_accuracy: 0.9070\n",
      "Epoch 44/100\n",
      "398/398 [==============================] - 0s 133us/sample - loss: 0.2649 - accuracy: 0.9020 - val_loss: 0.2100 - val_accuracy: 0.9186\n",
      "Epoch 45/100\n",
      "398/398 [==============================] - 0s 138us/sample - loss: 0.2640 - accuracy: 0.8970 - val_loss: 0.2082 - val_accuracy: 0.9070\n",
      "Epoch 46/100\n",
      "398/398 [==============================] - 0s 133us/sample - loss: 0.2652 - accuracy: 0.8970 - val_loss: 0.2089 - val_accuracy: 0.9186\n",
      "Epoch 47/100\n",
      "398/398 [==============================] - 0s 132us/sample - loss: 0.2633 - accuracy: 0.8970 - val_loss: 0.2070 - val_accuracy: 0.9070\n",
      "Epoch 48/100\n",
      "398/398 [==============================] - 0s 131us/sample - loss: 0.2638 - accuracy: 0.8995 - val_loss: 0.2066 - val_accuracy: 0.9070\n",
      "Epoch 49/100\n",
      "398/398 [==============================] - 0s 136us/sample - loss: 0.2646 - accuracy: 0.8945 - val_loss: 0.2064 - val_accuracy: 0.9070\n",
      "Epoch 50/100\n",
      "398/398 [==============================] - 0s 136us/sample - loss: 0.2625 - accuracy: 0.8970 - val_loss: 0.2059 - val_accuracy: 0.9070\n",
      "Epoch 51/100\n",
      "398/398 [==============================] - 0s 131us/sample - loss: 0.2630 - accuracy: 0.8894 - val_loss: 0.2055 - val_accuracy: 0.9070\n",
      "Epoch 52/100\n",
      "398/398 [==============================] - 0s 133us/sample - loss: 0.2624 - accuracy: 0.8920 - val_loss: 0.2175 - val_accuracy: 0.8953\n",
      "Epoch 53/100\n",
      "398/398 [==============================] - 0s 136us/sample - loss: 0.2637 - accuracy: 0.8844 - val_loss: 0.2051 - val_accuracy: 0.9070\n",
      "Epoch 54/100\n",
      "398/398 [==============================] - 0s 133us/sample - loss: 0.2620 - accuracy: 0.8970 - val_loss: 0.2053 - val_accuracy: 0.9186\n",
      "Epoch 55/100\n",
      "398/398 [==============================] - 0s 128us/sample - loss: 0.2617 - accuracy: 0.8970 - val_loss: 0.2034 - val_accuracy: 0.9070\n",
      "Epoch 56/100\n",
      "398/398 [==============================] - 0s 133us/sample - loss: 0.2610 - accuracy: 0.8945 - val_loss: 0.2029 - val_accuracy: 0.9070\n",
      "Epoch 57/100\n",
      "398/398 [==============================] - 0s 133us/sample - loss: 0.2617 - accuracy: 0.8894 - val_loss: 0.2024 - val_accuracy: 0.9070\n",
      "Epoch 58/100\n",
      "398/398 [==============================] - 0s 131us/sample - loss: 0.2613 - accuracy: 0.8945 - val_loss: 0.2020 - val_accuracy: 0.9070\n",
      "Epoch 59/100\n",
      "398/398 [==============================] - 0s 136us/sample - loss: 0.2604 - accuracy: 0.8920 - val_loss: 0.2022 - val_accuracy: 0.9070\n",
      "Epoch 60/100\n",
      "398/398 [==============================] - 0s 133us/sample - loss: 0.2612 - accuracy: 0.8894 - val_loss: 0.2018 - val_accuracy: 0.9070\n",
      "Epoch 61/100\n",
      "398/398 [==============================] - 0s 136us/sample - loss: 0.2604 - accuracy: 0.8945 - val_loss: 0.2023 - val_accuracy: 0.9070\n",
      "Epoch 62/100\n",
      "398/398 [==============================] - 0s 138us/sample - loss: 0.2596 - accuracy: 0.8920 - val_loss: 0.2018 - val_accuracy: 0.9186\n",
      "Epoch 63/100\n",
      "398/398 [==============================] - 0s 133us/sample - loss: 0.2611 - accuracy: 0.8945 - val_loss: 0.2050 - val_accuracy: 0.9070\n",
      "Epoch 64/100\n",
      "398/398 [==============================] - 0s 133us/sample - loss: 0.2609 - accuracy: 0.8995 - val_loss: 0.2034 - val_accuracy: 0.9070\n",
      "Epoch 65/100\n",
      "398/398 [==============================] - 0s 138us/sample - loss: 0.2582 - accuracy: 0.8920 - val_loss: 0.2031 - val_accuracy: 0.8953\n",
      "Epoch 66/100\n",
      "398/398 [==============================] - 0s 128us/sample - loss: 0.2598 - accuracy: 0.8945 - val_loss: 0.2021 - val_accuracy: 0.8953\n",
      "Epoch 67/100\n",
      "398/398 [==============================] - 0s 131us/sample - loss: 0.2586 - accuracy: 0.8995 - val_loss: 0.2028 - val_accuracy: 0.9070\n",
      "Epoch 68/100\n",
      "398/398 [==============================] - 0s 133us/sample - loss: 0.2581 - accuracy: 0.8945 - val_loss: 0.2022 - val_accuracy: 0.9186\n",
      "Epoch 69/100\n",
      "398/398 [==============================] - 0s 133us/sample - loss: 0.2578 - accuracy: 0.8995 - val_loss: 0.2021 - val_accuracy: 0.8953\n",
      "Epoch 70/100\n",
      "398/398 [==============================] - 0s 141us/sample - loss: 0.2586 - accuracy: 0.8920 - val_loss: 0.2019 - val_accuracy: 0.9070\n",
      "Epoch 71/100\n",
      "398/398 [==============================] - 0s 128us/sample - loss: 0.2590 - accuracy: 0.8995 - val_loss: 0.2028 - val_accuracy: 0.9070\n",
      "Epoch 72/100\n",
      "398/398 [==============================] - 0s 128us/sample - loss: 0.2581 - accuracy: 0.8945 - val_loss: 0.2036 - val_accuracy: 0.9070\n",
      "Epoch 73/100\n",
      "398/398 [==============================] - 0s 134us/sample - loss: 0.2566 - accuracy: 0.8945 - val_loss: 0.2030 - val_accuracy: 0.8953\n",
      "Epoch 74/100\n",
      "398/398 [==============================] - 0s 136us/sample - loss: 0.2589 - accuracy: 0.8970 - val_loss: 0.2058 - val_accuracy: 0.9070\n",
      "Epoch 75/100\n",
      "398/398 [==============================] - 0s 133us/sample - loss: 0.2581 - accuracy: 0.8894 - val_loss: 0.2036 - val_accuracy: 0.9070\n",
      "Epoch 76/100\n",
      "398/398 [==============================] - 0s 138us/sample - loss: 0.2579 - accuracy: 0.8995 - val_loss: 0.2023 - val_accuracy: 0.9186\n",
      "Epoch 77/100\n",
      "398/398 [==============================] - 0s 136us/sample - loss: 0.2570 - accuracy: 0.8970 - val_loss: 0.2032 - val_accuracy: 0.9070\n",
      "Epoch 78/100\n",
      "398/398 [==============================] - 0s 138us/sample - loss: 0.2573 - accuracy: 0.8920 - val_loss: 0.2023 - val_accuracy: 0.9070\n",
      "Epoch 79/100\n",
      "398/398 [==============================] - 0s 131us/sample - loss: 0.2566 - accuracy: 0.8945 - val_loss: 0.2025 - val_accuracy: 0.9070\n",
      "Epoch 80/100\n",
      "398/398 [==============================] - 0s 133us/sample - loss: 0.2585 - accuracy: 0.8945 - val_loss: 0.2027 - val_accuracy: 0.9070\n",
      "Epoch 81/100\n",
      "398/398 [==============================] - 0s 138us/sample - loss: 0.2574 - accuracy: 0.9020 - val_loss: 0.2066 - val_accuracy: 0.9070\n",
      "Epoch 82/100\n",
      "398/398 [==============================] - 0s 136us/sample - loss: 0.2580 - accuracy: 0.8945 - val_loss: 0.2057 - val_accuracy: 0.8953\n",
      "Epoch 83/100\n",
      "398/398 [==============================] - 0s 136us/sample - loss: 0.2580 - accuracy: 0.8894 - val_loss: 0.2026 - val_accuracy: 0.9186\n",
      "Epoch 84/100\n",
      "398/398 [==============================] - 0s 136us/sample - loss: 0.2565 - accuracy: 0.8920 - val_loss: 0.2027 - val_accuracy: 0.9070\n",
      "Epoch 85/100\n",
      "398/398 [==============================] - 0s 146us/sample - loss: 0.2569 - accuracy: 0.8970 - val_loss: 0.2024 - val_accuracy: 0.9070\n",
      "Epoch 86/100\n",
      "398/398 [==============================] - 0s 136us/sample - loss: 0.2566 - accuracy: 0.8920 - val_loss: 0.2035 - val_accuracy: 0.8953\n",
      "Epoch 87/100\n",
      "398/398 [==============================] - 0s 133us/sample - loss: 0.2579 - accuracy: 0.8945 - val_loss: 0.2021 - val_accuracy: 0.9070\n",
      "Epoch 88/100\n",
      "398/398 [==============================] - 0s 131us/sample - loss: 0.2563 - accuracy: 0.8920 - val_loss: 0.2025 - val_accuracy: 0.9070\n",
      "Epoch 89/100\n",
      "398/398 [==============================] - 0s 136us/sample - loss: 0.2577 - accuracy: 0.9020 - val_loss: 0.2021 - val_accuracy: 0.9070\n",
      "Epoch 90/100\n",
      "398/398 [==============================] - 0s 133us/sample - loss: 0.2557 - accuracy: 0.8995 - val_loss: 0.2019 - val_accuracy: 0.9070\n",
      "Epoch 91/100\n",
      "398/398 [==============================] - 0s 136us/sample - loss: 0.2563 - accuracy: 0.8995 - val_loss: 0.2029 - val_accuracy: 0.9070\n",
      "Epoch 92/100\n",
      "398/398 [==============================] - 0s 133us/sample - loss: 0.2575 - accuracy: 0.8995 - val_loss: 0.2067 - val_accuracy: 0.8953\n",
      "Epoch 93/100\n",
      "398/398 [==============================] - 0s 138us/sample - loss: 0.2557 - accuracy: 0.8894 - val_loss: 0.2036 - val_accuracy: 0.9070\n",
      "Epoch 94/100\n",
      "398/398 [==============================] - 0s 132us/sample - loss: 0.2561 - accuracy: 0.8945 - val_loss: 0.2018 - val_accuracy: 0.9070\n",
      "Epoch 95/100\n",
      "398/398 [==============================] - 0s 131us/sample - loss: 0.2566 - accuracy: 0.8945 - val_loss: 0.2021 - val_accuracy: 0.9070\n",
      "Epoch 96/100\n",
      "398/398 [==============================] - 0s 141us/sample - loss: 0.2561 - accuracy: 0.9020 - val_loss: 0.2069 - val_accuracy: 0.8953\n",
      "Epoch 97/100\n",
      "398/398 [==============================] - 0s 133us/sample - loss: 0.2571 - accuracy: 0.8970 - val_loss: 0.2053 - val_accuracy: 0.9070\n",
      "Epoch 98/100\n",
      "398/398 [==============================] - 0s 136us/sample - loss: 0.2571 - accuracy: 0.8945 - val_loss: 0.2033 - val_accuracy: 0.9070\n",
      "Epoch 99/100\n",
      "398/398 [==============================] - 0s 141us/sample - loss: 0.2548 - accuracy: 0.8970 - val_loss: 0.2023 - val_accuracy: 0.9070\n",
      "Epoch 100/100\n",
      "398/398 [==============================] - 0s 138us/sample - loss: 0.2558 - accuracy: 0.8945 - val_loss: 0.2020 - val_accuracy: 0.9070\n"
     ]
    }
   ],
   "source": [
    "\n",
    "# define the Machine Learning Model: Neural Network\n",
    "# YOUR CODE HERE:\n",
    "model_tum = Sequential()\n",
    "\n",
    "# add the required layers\n",
    "model_tum.add(Dense(10, input_dim= len(n_features), activation='relu'))\n",
    "\n",
    "model_tum.add(Dense(7, activation='relu'))\n",
    "model_tum.add(Dense(5, activation='relu'))\n",
    "model_tum.add(Dense(3, activation='relu'))\n",
    "\n",
    "model_tum.add(Dense(len(n_outputs), activation='softmax'))\n",
    "\n",
    "# compile the network using: \n",
    "# the 'mean_squared_error' as a loss function\n",
    "# the stochastic gradient descent ('sgd') as the optimization function\n",
    "# and the 'accuracy' as evaluation metric\n",
    "# YOUR CODE HERE:\n",
    "model_tum.compile(loss='categorical_crossentropy', optimizer='nadam', metrics=['accuracy'])\n",
    "\n",
    "# fit the model to the data -> learning the model\n",
    "# YOUR CODE HERE:\n",
    "# fit model\n",
    "history = model_tum.fit(X_train, Y_train, validation_data=(X_val, Y_val), epochs=100, verbose=1)\n"
   ]
  },
  {
   "cell_type": "code",
   "execution_count": 9,
   "metadata": {
    "ExecuteTime": {
     "end_time": "2020-07-05T17:57:16.578276Z",
     "start_time": "2020-07-05T17:57:16.529323Z"
    }
   },
   "outputs": [
    {
     "name": "stdout",
     "output_type": "stream",
     "text": [
      "398/398 [==============================] - 0s 48us/sample - loss: 0.2533 - accuracy: 0.8995\n",
      "85/85 [==============================] - 0s 82us/sample - loss: 0.2143 - accuracy: 0.9176\n",
      "Train: 0.899, Test: 0.918\n"
     ]
    }
   ],
   "source": [
    "# evaluate the model\n",
    "# evaluate the model\n",
    "_, train_acc = model_tum.evaluate(X_train, Y_train, verbose=1)\n",
    "_, test_acc = model_tum.evaluate(X_test, Y_test, verbose=1)\n",
    "print('Train: %.3f, Test: %.3f' % (train_acc, test_acc))\n"
   ]
  },
  {
   "cell_type": "code",
   "execution_count": 10,
   "metadata": {
    "ExecuteTime": {
     "end_time": "2020-07-05T17:57:17.170987Z",
     "start_time": "2020-07-05T17:57:16.992952Z"
    }
   },
   "outputs": [
    {
     "data": {
      "image/png": "[encoded data removed]",
      "text/plain": [
       "<Figure size 432x288 with 1 Axes>"
      ]
     },
     "metadata": {},
     "output_type": "display_data"
    }
   ],
   "source": [
    "# plot training history\n",
    "pyplot.plot(history.history['accuracy'], label='train')\n",
    "pyplot.plot(history.history['val_accuracy'], label='val')\n",
    "pyplot.ylabel('accuracy', fontsize=12)\n",
    "pyplot.xlabel('iterations', fontsize=12)\n",
    "pyplot.legend()\n",
    "pyplot.show()"
   ]
  },
  {
   "cell_type": "code",
   "execution_count": 11,
   "metadata": {
    "ExecuteTime": {
     "end_time": "2020-07-05T17:57:17.756417Z",
     "start_time": "2020-07-05T17:57:17.582096Z"
    }
   },
   "outputs": [
    {
     "data": {
      "image/png": "[encoded data removed]",
      "text/plain": [
       "<Figure size 432x288 with 1 Axes>"
      ]
     },
     "metadata": {},
     "output_type": "display_data"
    }
   ],
   "source": [
    "# plot training history\n",
    "pyplot.plot(history.history['loss'], label='train')\n",
    "pyplot.plot(history.history['val_loss'], label='val')\n",
    "pyplot.ylabel('loss', fontsize=12)\n",
    "pyplot.xlabel('iterations', fontsize=12)\n",
    "pyplot.legend()\n",
    "pyplot.show()"
   ]
  },
  {
   "cell_type": "code",
   "execution_count": null,
   "metadata": {},
   "outputs": [],
   "source": []
  },
  {
   "cell_type": "code",
   "execution_count": null,
   "metadata": {},
   "outputs": [],
   "source": []
  }
 ],
 "metadata": {
  "kernelspec": {
   "display_name": "Python 3",
   "language": "python",
   "name": "python3"
  },
  "language_info": {
   "codemirror_mode": {
    "name": "ipython",
    "version": 3
   },
   "file_extension": ".py",
   "mimetype": "text/x-python",
   "name": "python",
   "nbconvert_exporter": "python",
   "pygments_lexer": "ipython3",
   "version": "3.7.9"
  },
  "toc": {
   "base_numbering": 1,
   "nav_menu": {},
   "number_sections": true,
   "sideBar": true,
   "skip_h1_title": false,
   "title_cell": "Table of Contents",
   "title_sidebar": "Contents",
   "toc_cell": false,
   "toc_position": {},
   "toc_section_display": true,
   "toc_window_display": false
  },
  "varInspector": {
   "cols": {
    "lenName": 16,
    "lenType": 16,
    "lenVar": 40
   },
   "kernels_config": {
    "python": {
     "delete_cmd_postfix": "",
     "delete_cmd_prefix": "del ",
     "library": "var_list.py",
     "varRefreshCmd": "print(var_dic_list())"
    },
    "r": {
     "delete_cmd_postfix": ") ",
     "delete_cmd_prefix": "rm(",
     "library": "var_list.r",
     "varRefreshCmd": "cat(var_dic_list()) "
    }
   },
   "types_to_exclude": [
    "module",
    "function",
    "builtin_function_or_method",
    "instance",
    "_Feature"
   ],
   "window_display": false
  }
 },
 "nbformat": 4,
 "nbformat_minor": 4
}
